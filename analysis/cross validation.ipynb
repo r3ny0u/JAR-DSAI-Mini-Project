{
 "cells": [
  {
   "cell_type": "code",
   "metadata": {
    "deepnote_to_be_reexecuted": false,
    "execution_millis": 2888,
    "execution_start": 1650604369254,
    "source_hash": "310bba4c",
    "tags": [],
    "cell_id": "2ce61c4a-831a-4f48-b1dc-aeb2e86a41be",
    "deepnote_cell_type": "code",
    "deepnote_cell_height": 171
   },
   "source": "# Basic Libraries\nimport numpy as np\nimport pandas as pd\nimport seaborn as sb\nimport matplotlib.pyplot as plt # we only need pyplot\nsb.set() # set the default Seaborn style for graphics",
   "execution_count": 2,
   "outputs": []
  },
  {
   "cell_type": "code",
   "metadata": {
    "deepnote_to_be_reexecuted": false,
    "execution_millis": 56,
    "execution_start": 1650604372154,
    "source_hash": "87660f98",
    "tags": [],
    "cell_id": "00001-75b812ad-8739-429b-96cb-e2ecef758351",
    "deepnote_cell_type": "code",
    "deepnote_cell_height": 917
   },
   "source": "data = pd.read_csv('Glassdoor_Gender_Pay_Gap.csv')\ndata.info()\nJob=data['JobTitle']\nGender=data['Gender']\nAge=data['Age']\nPerfEval=data['PerfEval']\nEducation=data['Education']\nDept=data['Dept']\nSeniority=data['Seniority']\nBasePay=data['BasePay']\nBonus=data['Bonus']\nincome=BasePay+Bonus\ndata.info()",
   "execution_count": 3,
   "outputs": [
    {
     "name": "stdout",
     "output_type": "stream",
     "text": "<class 'pandas.core.frame.DataFrame'>\nRangeIndex: 1000 entries, 0 to 999\nData columns (total 9 columns):\n #   Column     Non-Null Count  Dtype \n---  ------     --------------  ----- \n 0   JobTitle   1000 non-null   object\n 1   Gender     1000 non-null   object\n 2   Age        1000 non-null   int64 \n 3   PerfEval   1000 non-null   int64 \n 4   Education  1000 non-null   object\n 5   Dept       1000 non-null   object\n 6   Seniority  1000 non-null   int64 \n 7   BasePay    1000 non-null   int64 \n 8   Bonus      1000 non-null   int64 \ndtypes: int64(5), object(4)\nmemory usage: 70.4+ KB\n<class 'pandas.core.frame.DataFrame'>\nRangeIndex: 1000 entries, 0 to 999\nData columns (total 9 columns):\n #   Column     Non-Null Count  Dtype \n---  ------     --------------  ----- \n 0   JobTitle   1000 non-null   object\n 1   Gender     1000 non-null   object\n 2   Age        1000 non-null   int64 \n 3   PerfEval   1000 non-null   int64 \n 4   Education  1000 non-null   object\n 5   Dept       1000 non-null   object\n 6   Seniority  1000 non-null   int64 \n 7   BasePay    1000 non-null   int64 \n 8   Bonus      1000 non-null   int64 \ndtypes: int64(5), object(4)\nmemory usage: 70.4+ KB\n"
    }
   ]
  },
  {
   "cell_type": "code",
   "source": "",
   "metadata": {
    "deepnote_to_be_reexecuted": false,
    "deepnote_visualization_spec": {
     "$schema": "https://vega.github.io/schema/vega-lite/v4.json",
     "autosize": {
      "type": "fit"
     },
     "data": {
      "name": "placeholder"
     },
     "encoding": {
      "color": {
       "field": "",
       "scale": {
        "type": "linear",
        "zero": false
       },
       "sort": null,
       "type": "nominal"
      },
      "x": {
       "field": "",
       "scale": {
        "type": "linear",
        "zero": false
       },
       "sort": null,
       "type": "nominal"
      },
      "y": {
       "field": "",
       "scale": {
        "type": "linear",
        "zero": true
       },
       "sort": null,
       "type": "nominal"
      }
     },
     "height": 220,
     "mark": {
      "tooltip": {
       "content": "data"
      },
      "type": "bar"
     }
    },
    "execution_millis": 3,
    "execution_start": 1650539180215,
    "source_hash": "b623e53d",
    "cell_id": "00002-f05bce87-ab48-47bb-a7d3-a1e8ff812493",
    "deepnote_cell_type": "visualization"
   },
   "execution_count": null,
   "outputs": []
  },
  {
   "cell_type": "code",
   "metadata": {
    "deepnote_to_be_reexecuted": false,
    "execution_millis": 16,
    "execution_start": 1650604377188,
    "source_hash": "d1b698d9",
    "tags": [],
    "cell_id": "00003-fbf3b689-749b-4ebf-a755-4e763ba98a59",
    "deepnote_cell_type": "code",
    "deepnote_cell_height": 81
   },
   "source": "data['income'] = data['BasePay'] + data['Bonus']",
   "execution_count": 4,
   "outputs": []
  },
  {
   "cell_type": "code",
   "metadata": {
    "deepnote_table_loading": false,
    "deepnote_table_state": {
     "filters": [],
     "pageIndex": 0,
     "pageSize": 10,
     "sortBy": []
    },
    "deepnote_to_be_reexecuted": false,
    "execution_millis": 129,
    "execution_start": 1650604445760,
    "source_hash": "6702b027",
    "tags": [],
    "cell_id": "00004-cfb20e4a-8661-43a8-96b4-26b75c7e2968",
    "deepnote_cell_type": "code",
    "deepnote_cell_height": 667.59375
   },
   "source": "x=pd.concat([Education,Job,Gender,PerfEval,Seniority,Dept,Age],axis=1)\nx_dummies=pd.get_dummies(x)\nx_dummies\n",
   "execution_count": 15,
   "outputs": [
    {
     "data": {
      "application/vnd.deepnote.dataframe.v3+json": {
       "column_count": 24,
       "columns": [
        {
         "dtype": "int64",
         "name": "PerfEval",
         "stats": {
          "histogram": [
           {
            "bin_end": 1.4,
            "bin_start": 1,
            "count": 198
           },
           {
            "bin_end": 1.8,
            "bin_start": 1.4,
            "count": 0
           },
           {
            "bin_end": 2.2,
            "bin_start": 1.8,
            "count": 192
           },
           {
            "bin_end": 2.6,
            "bin_start": 2.2,
            "count": 0
           },
           {
            "bin_end": 3,
            "bin_start": 2.6,
            "count": 0
           },
           {
            "bin_end": 3.4000000000000004,
            "bin_start": 3,
            "count": 194
           },
           {
            "bin_end": 3.8000000000000003,
            "bin_start": 3.4000000000000004,
            "count": 0
           },
           {
            "bin_end": 4.2,
            "bin_start": 3.8000000000000003,
            "count": 207
           },
           {
            "bin_end": 4.6,
            "bin_start": 4.2,
            "count": 0
           },
           {
            "bin_end": 5,
            "bin_start": 4.6,
            "count": 209
           }
          ],
          "max": "5",
          "min": "1",
          "nan_count": 0,
          "unique_count": 5
         }
        },
        {
         "dtype": "int64",
         "name": "Seniority",
         "stats": {
          "histogram": [
           {
            "bin_end": 1.4,
            "bin_start": 1,
            "count": 195
           },
           {
            "bin_end": 1.8,
            "bin_start": 1.4,
            "count": 0
           },
           {
            "bin_end": 2.2,
            "bin_start": 1.8,
            "count": 209
           },
           {
            "bin_end": 2.6,
            "bin_start": 2.2,
            "count": 0
           },
           {
            "bin_end": 3,
            "bin_start": 2.6,
            "count": 0
           },
           {
            "bin_end": 3.4000000000000004,
            "bin_start": 3,
            "count": 219
           },
           {
            "bin_end": 3.8000000000000003,
            "bin_start": 3.4000000000000004,
            "count": 0
           },
           {
            "bin_end": 4.2,
            "bin_start": 3.8000000000000003,
            "count": 184
           },
           {
            "bin_end": 4.6,
            "bin_start": 4.2,
            "count": 0
           },
           {
            "bin_end": 5,
            "bin_start": 4.6,
            "count": 193
           }
          ],
          "max": "5",
          "min": "1",
          "nan_count": 0,
          "unique_count": 5
         }
        },
        {
         "dtype": "int64",
         "name": "Age",
         "stats": {
          "histogram": [
           {
            "bin_end": 22.7,
            "bin_start": 18,
            "count": 121
           },
           {
            "bin_end": 27.4,
            "bin_start": 22.7,
            "count": 103
           },
           {
            "bin_end": 32.1,
            "bin_start": 27.4,
            "count": 99
           },
           {
            "bin_end": 36.8,
            "bin_start": 32.1,
            "count": 91
           },
           {
            "bin_end": 41.5,
            "bin_start": 36.8,
            "count": 91
           },
           {
            "bin_end": 46.2,
            "bin_start": 41.5,
            "count": 88
           },
           {
            "bin_end": 50.9,
            "bin_start": 46.2,
            "count": 86
           },
           {
            "bin_end": 55.6,
            "bin_start": 50.9,
            "count": 97
           },
           {
            "bin_end": 60.300000000000004,
            "bin_start": 55.6,
            "count": 113
           },
           {
            "bin_end": 65,
            "bin_start": 60.300000000000004,
            "count": 111
           }
          ],
          "max": "65",
          "min": "18",
          "nan_count": 0,
          "unique_count": 48
         }
        },
        {
         "dtype": "uint8",
         "name": "Education_College",
         "stats": {
          "histogram": [
           {
            "bin_end": 0.1,
            "bin_start": 0,
            "count": 759
           },
           {
            "bin_end": 0.2,
            "bin_start": 0.1,
            "count": 0
           },
           {
            "bin_end": 0.30000000000000004,
            "bin_start": 0.2,
            "count": 0
           },
           {
            "bin_end": 0.4,
            "bin_start": 0.30000000000000004,
            "count": 0
           },
           {
            "bin_end": 0.5,
            "bin_start": 0.4,
            "count": 0
           },
           {
            "bin_end": 0.6000000000000001,
            "bin_start": 0.5,
            "count": 0
           },
           {
            "bin_end": 0.7000000000000001,
            "bin_start": 0.6000000000000001,
            "count": 0
           },
           {
            "bin_end": 0.8,
            "bin_start": 0.7000000000000001,
            "count": 0
           },
           {
            "bin_end": 0.9,
            "bin_start": 0.8,
            "count": 0
           },
           {
            "bin_end": 1,
            "bin_start": 0.9,
            "count": 241
           }
          ],
          "max": "1",
          "min": "0",
          "nan_count": 0,
          "unique_count": 2
         }
        },
        {
         "dtype": "uint8",
         "name": "Education_High School",
         "stats": {
          "histogram": [
           {
            "bin_end": 0.1,
            "bin_start": 0,
            "count": 735
           },
           {
            "bin_end": 0.2,
            "bin_start": 0.1,
            "count": 0
           },
           {
            "bin_end": 0.30000000000000004,
            "bin_start": 0.2,
            "count": 0
           },
           {
            "bin_end": 0.4,
            "bin_start": 0.30000000000000004,
            "count": 0
           },
           {
            "bin_end": 0.5,
            "bin_start": 0.4,
            "count": 0
           },
           {
            "bin_end": 0.6000000000000001,
            "bin_start": 0.5,
            "count": 0
           },
           {
            "bin_end": 0.7000000000000001,
            "bin_start": 0.6000000000000001,
            "count": 0
           },
           {
            "bin_end": 0.8,
            "bin_start": 0.7000000000000001,
            "count": 0
           },
           {
            "bin_end": 0.9,
            "bin_start": 0.8,
            "count": 0
           },
           {
            "bin_end": 1,
            "bin_start": 0.9,
            "count": 265
           }
          ],
          "max": "1",
          "min": "0",
          "nan_count": 0,
          "unique_count": 2
         }
        },
        {
         "dtype": "uint8",
         "name": "Education_Masters",
         "stats": {
          "histogram": [
           {
            "bin_end": 0.1,
            "bin_start": 0,
            "count": 744
           },
           {
            "bin_end": 0.2,
            "bin_start": 0.1,
            "count": 0
           },
           {
            "bin_end": 0.30000000000000004,
            "bin_start": 0.2,
            "count": 0
           },
           {
            "bin_end": 0.4,
            "bin_start": 0.30000000000000004,
            "count": 0
           },
           {
            "bin_end": 0.5,
            "bin_start": 0.4,
            "count": 0
           },
           {
            "bin_end": 0.6000000000000001,
            "bin_start": 0.5,
            "count": 0
           },
           {
            "bin_end": 0.7000000000000001,
            "bin_start": 0.6000000000000001,
            "count": 0
           },
           {
            "bin_end": 0.8,
            "bin_start": 0.7000000000000001,
            "count": 0
           },
           {
            "bin_end": 0.9,
            "bin_start": 0.8,
            "count": 0
           },
           {
            "bin_end": 1,
            "bin_start": 0.9,
            "count": 256
           }
          ],
          "max": "1",
          "min": "0",
          "nan_count": 0,
          "unique_count": 2
         }
        },
        {
         "dtype": "uint8",
         "name": "Education_PhD",
         "stats": {
          "histogram": [
           {
            "bin_end": 0.1,
            "bin_start": 0,
            "count": 762
           },
           {
            "bin_end": 0.2,
            "bin_start": 0.1,
            "count": 0
           },
           {
            "bin_end": 0.30000000000000004,
            "bin_start": 0.2,
            "count": 0
           },
           {
            "bin_end": 0.4,
            "bin_start": 0.30000000000000004,
            "count": 0
           },
           {
            "bin_end": 0.5,
            "bin_start": 0.4,
            "count": 0
           },
           {
            "bin_end": 0.6000000000000001,
            "bin_start": 0.5,
            "count": 0
           },
           {
            "bin_end": 0.7000000000000001,
            "bin_start": 0.6000000000000001,
            "count": 0
           },
           {
            "bin_end": 0.8,
            "bin_start": 0.7000000000000001,
            "count": 0
           },
           {
            "bin_end": 0.9,
            "bin_start": 0.8,
            "count": 0
           },
           {
            "bin_end": 1,
            "bin_start": 0.9,
            "count": 238
           }
          ],
          "max": "1",
          "min": "0",
          "nan_count": 0,
          "unique_count": 2
         }
        },
        {
         "dtype": "uint8",
         "name": "JobTitle_Data Scientist",
         "stats": {
          "histogram": [
           {
            "bin_end": 0.1,
            "bin_start": 0,
            "count": 893
           },
           {
            "bin_end": 0.2,
            "bin_start": 0.1,
            "count": 0
           },
           {
            "bin_end": 0.30000000000000004,
            "bin_start": 0.2,
            "count": 0
           },
           {
            "bin_end": 0.4,
            "bin_start": 0.30000000000000004,
            "count": 0
           },
           {
            "bin_end": 0.5,
            "bin_start": 0.4,
            "count": 0
           },
           {
            "bin_end": 0.6000000000000001,
            "bin_start": 0.5,
            "count": 0
           },
           {
            "bin_end": 0.7000000000000001,
            "bin_start": 0.6000000000000001,
            "count": 0
           },
           {
            "bin_end": 0.8,
            "bin_start": 0.7000000000000001,
            "count": 0
           },
           {
            "bin_end": 0.9,
            "bin_start": 0.8,
            "count": 0
           },
           {
            "bin_end": 1,
            "bin_start": 0.9,
            "count": 107
           }
          ],
          "max": "1",
          "min": "0",
          "nan_count": 0,
          "unique_count": 2
         }
        },
        {
         "dtype": "uint8",
         "name": "JobTitle_Driver",
         "stats": {
          "histogram": [
           {
            "bin_end": 0.1,
            "bin_start": 0,
            "count": 909
           },
           {
            "bin_end": 0.2,
            "bin_start": 0.1,
            "count": 0
           },
           {
            "bin_end": 0.30000000000000004,
            "bin_start": 0.2,
            "count": 0
           },
           {
            "bin_end": 0.4,
            "bin_start": 0.30000000000000004,
            "count": 0
           },
           {
            "bin_end": 0.5,
            "bin_start": 0.4,
            "count": 0
           },
           {
            "bin_end": 0.6000000000000001,
            "bin_start": 0.5,
            "count": 0
           },
           {
            "bin_end": 0.7000000000000001,
            "bin_start": 0.6000000000000001,
            "count": 0
           },
           {
            "bin_end": 0.8,
            "bin_start": 0.7000000000000001,
            "count": 0
           },
           {
            "bin_end": 0.9,
            "bin_start": 0.8,
            "count": 0
           },
           {
            "bin_end": 1,
            "bin_start": 0.9,
            "count": 91
           }
          ],
          "max": "1",
          "min": "0",
          "nan_count": 0,
          "unique_count": 2
         }
        },
        {
         "dtype": "uint8",
         "name": "JobTitle_Financial Analyst",
         "stats": {
          "histogram": [
           {
            "bin_end": 0.1,
            "bin_start": 0,
            "count": 893
           },
           {
            "bin_end": 0.2,
            "bin_start": 0.1,
            "count": 0
           },
           {
            "bin_end": 0.30000000000000004,
            "bin_start": 0.2,
            "count": 0
           },
           {
            "bin_end": 0.4,
            "bin_start": 0.30000000000000004,
            "count": 0
           },
           {
            "bin_end": 0.5,
            "bin_start": 0.4,
            "count": 0
           },
           {
            "bin_end": 0.6000000000000001,
            "bin_start": 0.5,
            "count": 0
           },
           {
            "bin_end": 0.7000000000000001,
            "bin_start": 0.6000000000000001,
            "count": 0
           },
           {
            "bin_end": 0.8,
            "bin_start": 0.7000000000000001,
            "count": 0
           },
           {
            "bin_end": 0.9,
            "bin_start": 0.8,
            "count": 0
           },
           {
            "bin_end": 1,
            "bin_start": 0.9,
            "count": 107
           }
          ],
          "max": "1",
          "min": "0",
          "nan_count": 0,
          "unique_count": 2
         }
        },
        {
         "dtype": "uint8",
         "name": "JobTitle_Graphic Designer",
         "stats": {
          "histogram": [
           {
            "bin_end": 0.1,
            "bin_start": 0,
            "count": 902
           },
           {
            "bin_end": 0.2,
            "bin_start": 0.1,
            "count": 0
           },
           {
            "bin_end": 0.30000000000000004,
            "bin_start": 0.2,
            "count": 0
           },
           {
            "bin_end": 0.4,
            "bin_start": 0.30000000000000004,
            "count": 0
           },
           {
            "bin_end": 0.5,
            "bin_start": 0.4,
            "count": 0
           },
           {
            "bin_end": 0.6000000000000001,
            "bin_start": 0.5,
            "count": 0
           },
           {
            "bin_end": 0.7000000000000001,
            "bin_start": 0.6000000000000001,
            "count": 0
           },
           {
            "bin_end": 0.8,
            "bin_start": 0.7000000000000001,
            "count": 0
           },
           {
            "bin_end": 0.9,
            "bin_start": 0.8,
            "count": 0
           },
           {
            "bin_end": 1,
            "bin_start": 0.9,
            "count": 98
           }
          ],
          "max": "1",
          "min": "0",
          "nan_count": 0,
          "unique_count": 2
         }
        },
        {
         "dtype": "uint8",
         "name": "JobTitle_IT",
         "stats": {
          "histogram": [
           {
            "bin_end": 0.1,
            "bin_start": 0,
            "count": 904
           },
           {
            "bin_end": 0.2,
            "bin_start": 0.1,
            "count": 0
           },
           {
            "bin_end": 0.30000000000000004,
            "bin_start": 0.2,
            "count": 0
           },
           {
            "bin_end": 0.4,
            "bin_start": 0.30000000000000004,
            "count": 0
           },
           {
            "bin_end": 0.5,
            "bin_start": 0.4,
            "count": 0
           },
           {
            "bin_end": 0.6000000000000001,
            "bin_start": 0.5,
            "count": 0
           },
           {
            "bin_end": 0.7000000000000001,
            "bin_start": 0.6000000000000001,
            "count": 0
           },
           {
            "bin_end": 0.8,
            "bin_start": 0.7000000000000001,
            "count": 0
           },
           {
            "bin_end": 0.9,
            "bin_start": 0.8,
            "count": 0
           },
           {
            "bin_end": 1,
            "bin_start": 0.9,
            "count": 96
           }
          ],
          "max": "1",
          "min": "0",
          "nan_count": 0,
          "unique_count": 2
         }
        },
        {
         "dtype": "uint8",
         "name": "JobTitle_Manager",
         "stats": {
          "histogram": [
           {
            "bin_end": 0.1,
            "bin_start": 0,
            "count": 910
           },
           {
            "bin_end": 0.2,
            "bin_start": 0.1,
            "count": 0
           },
           {
            "bin_end": 0.30000000000000004,
            "bin_start": 0.2,
            "count": 0
           },
           {
            "bin_end": 0.4,
            "bin_start": 0.30000000000000004,
            "count": 0
           },
           {
            "bin_end": 0.5,
            "bin_start": 0.4,
            "count": 0
           },
           {
            "bin_end": 0.6000000000000001,
            "bin_start": 0.5,
            "count": 0
           },
           {
            "bin_end": 0.7000000000000001,
            "bin_start": 0.6000000000000001,
            "count": 0
           },
           {
            "bin_end": 0.8,
            "bin_start": 0.7000000000000001,
            "count": 0
           },
           {
            "bin_end": 0.9,
            "bin_start": 0.8,
            "count": 0
           },
           {
            "bin_end": 1,
            "bin_start": 0.9,
            "count": 90
           }
          ],
          "max": "1",
          "min": "0",
          "nan_count": 0,
          "unique_count": 2
         }
        },
        {
         "dtype": "uint8",
         "name": "JobTitle_Marketing Associate",
         "stats": {
          "histogram": [
           {
            "bin_end": 0.1,
            "bin_start": 0,
            "count": 882
           },
           {
            "bin_end": 0.2,
            "bin_start": 0.1,
            "count": 0
           },
           {
            "bin_end": 0.30000000000000004,
            "bin_start": 0.2,
            "count": 0
           },
           {
            "bin_end": 0.4,
            "bin_start": 0.30000000000000004,
            "count": 0
           },
           {
            "bin_end": 0.5,
            "bin_start": 0.4,
            "count": 0
           },
           {
            "bin_end": 0.6000000000000001,
            "bin_start": 0.5,
            "count": 0
           },
           {
            "bin_end": 0.7000000000000001,
            "bin_start": 0.6000000000000001,
            "count": 0
           },
           {
            "bin_end": 0.8,
            "bin_start": 0.7000000000000001,
            "count": 0
           },
           {
            "bin_end": 0.9,
            "bin_start": 0.8,
            "count": 0
           },
           {
            "bin_end": 1,
            "bin_start": 0.9,
            "count": 118
           }
          ],
          "max": "1",
          "min": "0",
          "nan_count": 0,
          "unique_count": 2
         }
        },
        {
         "dtype": "uint8",
         "name": "JobTitle_Sales Associate",
         "stats": {
          "histogram": [
           {
            "bin_end": 0.1,
            "bin_start": 0,
            "count": 906
           },
           {
            "bin_end": 0.2,
            "bin_start": 0.1,
            "count": 0
           },
           {
            "bin_end": 0.30000000000000004,
            "bin_start": 0.2,
            "count": 0
           },
           {
            "bin_end": 0.4,
            "bin_start": 0.30000000000000004,
            "count": 0
           },
           {
            "bin_end": 0.5,
            "bin_start": 0.4,
            "count": 0
           },
           {
            "bin_end": 0.6000000000000001,
            "bin_start": 0.5,
            "count": 0
           },
           {
            "bin_end": 0.7000000000000001,
            "bin_start": 0.6000000000000001,
            "count": 0
           },
           {
            "bin_end": 0.8,
            "bin_start": 0.7000000000000001,
            "count": 0
           },
           {
            "bin_end": 0.9,
            "bin_start": 0.8,
            "count": 0
           },
           {
            "bin_end": 1,
            "bin_start": 0.9,
            "count": 94
           }
          ],
          "max": "1",
          "min": "0",
          "nan_count": 0,
          "unique_count": 2
         }
        },
        {
         "dtype": "uint8",
         "name": "JobTitle_Software Engineer",
         "stats": {
          "histogram": [
           {
            "bin_end": 0.1,
            "bin_start": 0,
            "count": 891
           },
           {
            "bin_end": 0.2,
            "bin_start": 0.1,
            "count": 0
           },
           {
            "bin_end": 0.30000000000000004,
            "bin_start": 0.2,
            "count": 0
           },
           {
            "bin_end": 0.4,
            "bin_start": 0.30000000000000004,
            "count": 0
           },
           {
            "bin_end": 0.5,
            "bin_start": 0.4,
            "count": 0
           },
           {
            "bin_end": 0.6000000000000001,
            "bin_start": 0.5,
            "count": 0
           },
           {
            "bin_end": 0.7000000000000001,
            "bin_start": 0.6000000000000001,
            "count": 0
           },
           {
            "bin_end": 0.8,
            "bin_start": 0.7000000000000001,
            "count": 0
           },
           {
            "bin_end": 0.9,
            "bin_start": 0.8,
            "count": 0
           },
           {
            "bin_end": 1,
            "bin_start": 0.9,
            "count": 109
           }
          ],
          "max": "1",
          "min": "0",
          "nan_count": 0,
          "unique_count": 2
         }
        },
        {
         "dtype": "uint8",
         "name": "JobTitle_Warehouse Associate",
         "stats": {
          "histogram": [
           {
            "bin_end": 0.1,
            "bin_start": 0,
            "count": 910
           },
           {
            "bin_end": 0.2,
            "bin_start": 0.1,
            "count": 0
           },
           {
            "bin_end": 0.30000000000000004,
            "bin_start": 0.2,
            "count": 0
           },
           {
            "bin_end": 0.4,
            "bin_start": 0.30000000000000004,
            "count": 0
           },
           {
            "bin_end": 0.5,
            "bin_start": 0.4,
            "count": 0
           },
           {
            "bin_end": 0.6000000000000001,
            "bin_start": 0.5,
            "count": 0
           },
           {
            "bin_end": 0.7000000000000001,
            "bin_start": 0.6000000000000001,
            "count": 0
           },
           {
            "bin_end": 0.8,
            "bin_start": 0.7000000000000001,
            "count": 0
           },
           {
            "bin_end": 0.9,
            "bin_start": 0.8,
            "count": 0
           },
           {
            "bin_end": 1,
            "bin_start": 0.9,
            "count": 90
           }
          ],
          "max": "1",
          "min": "0",
          "nan_count": 0,
          "unique_count": 2
         }
        },
        {
         "dtype": "uint8",
         "name": "Gender_Female",
         "stats": {
          "histogram": [
           {
            "bin_end": 0.1,
            "bin_start": 0,
            "count": 532
           },
           {
            "bin_end": 0.2,
            "bin_start": 0.1,
            "count": 0
           },
           {
            "bin_end": 0.30000000000000004,
            "bin_start": 0.2,
            "count": 0
           },
           {
            "bin_end": 0.4,
            "bin_start": 0.30000000000000004,
            "count": 0
           },
           {
            "bin_end": 0.5,
            "bin_start": 0.4,
            "count": 0
           },
           {
            "bin_end": 0.6000000000000001,
            "bin_start": 0.5,
            "count": 0
           },
           {
            "bin_end": 0.7000000000000001,
            "bin_start": 0.6000000000000001,
            "count": 0
           },
           {
            "bin_end": 0.8,
            "bin_start": 0.7000000000000001,
            "count": 0
           },
           {
            "bin_end": 0.9,
            "bin_start": 0.8,
            "count": 0
           },
           {
            "bin_end": 1,
            "bin_start": 0.9,
            "count": 468
           }
          ],
          "max": "1",
          "min": "0",
          "nan_count": 0,
          "unique_count": 2
         }
        },
        {
         "dtype": "uint8",
         "name": "Gender_Male",
         "stats": {
          "histogram": [
           {
            "bin_end": 0.1,
            "bin_start": 0,
            "count": 468
           },
           {
            "bin_end": 0.2,
            "bin_start": 0.1,
            "count": 0
           },
           {
            "bin_end": 0.30000000000000004,
            "bin_start": 0.2,
            "count": 0
           },
           {
            "bin_end": 0.4,
            "bin_start": 0.30000000000000004,
            "count": 0
           },
           {
            "bin_end": 0.5,
            "bin_start": 0.4,
            "count": 0
           },
           {
            "bin_end": 0.6000000000000001,
            "bin_start": 0.5,
            "count": 0
           },
           {
            "bin_end": 0.7000000000000001,
            "bin_start": 0.6000000000000001,
            "count": 0
           },
           {
            "bin_end": 0.8,
            "bin_start": 0.7000000000000001,
            "count": 0
           },
           {
            "bin_end": 0.9,
            "bin_start": 0.8,
            "count": 0
           },
           {
            "bin_end": 1,
            "bin_start": 0.9,
            "count": 532
           }
          ],
          "max": "1",
          "min": "0",
          "nan_count": 0,
          "unique_count": 2
         }
        },
        {
         "dtype": "uint8",
         "name": "Dept_Administration",
         "stats": {
          "histogram": [
           {
            "bin_end": 0.1,
            "bin_start": 0,
            "count": 807
           },
           {
            "bin_end": 0.2,
            "bin_start": 0.1,
            "count": 0
           },
           {
            "bin_end": 0.30000000000000004,
            "bin_start": 0.2,
            "count": 0
           },
           {
            "bin_end": 0.4,
            "bin_start": 0.30000000000000004,
            "count": 0
           },
           {
            "bin_end": 0.5,
            "bin_start": 0.4,
            "count": 0
           },
           {
            "bin_end": 0.6000000000000001,
            "bin_start": 0.5,
            "count": 0
           },
           {
            "bin_end": 0.7000000000000001,
            "bin_start": 0.6000000000000001,
            "count": 0
           },
           {
            "bin_end": 0.8,
            "bin_start": 0.7000000000000001,
            "count": 0
           },
           {
            "bin_end": 0.9,
            "bin_start": 0.8,
            "count": 0
           },
           {
            "bin_end": 1,
            "bin_start": 0.9,
            "count": 193
           }
          ],
          "max": "1",
          "min": "0",
          "nan_count": 0,
          "unique_count": 2
         }
        },
        {
         "dtype": "uint8",
         "name": "Dept_Engineering",
         "stats": {
          "histogram": [
           {
            "bin_end": 0.1,
            "bin_start": 0,
            "count": 808
           },
           {
            "bin_end": 0.2,
            "bin_start": 0.1,
            "count": 0
           },
           {
            "bin_end": 0.30000000000000004,
            "bin_start": 0.2,
            "count": 0
           },
           {
            "bin_end": 0.4,
            "bin_start": 0.30000000000000004,
            "count": 0
           },
           {
            "bin_end": 0.5,
            "bin_start": 0.4,
            "count": 0
           },
           {
            "bin_end": 0.6000000000000001,
            "bin_start": 0.5,
            "count": 0
           },
           {
            "bin_end": 0.7000000000000001,
            "bin_start": 0.6000000000000001,
            "count": 0
           },
           {
            "bin_end": 0.8,
            "bin_start": 0.7000000000000001,
            "count": 0
           },
           {
            "bin_end": 0.9,
            "bin_start": 0.8,
            "count": 0
           },
           {
            "bin_end": 1,
            "bin_start": 0.9,
            "count": 192
           }
          ],
          "max": "1",
          "min": "0",
          "nan_count": 0,
          "unique_count": 2
         }
        },
        {
         "dtype": "uint8",
         "name": "Dept_Management",
         "stats": {
          "histogram": [
           {
            "bin_end": 0.1,
            "bin_start": 0,
            "count": 802
           },
           {
            "bin_end": 0.2,
            "bin_start": 0.1,
            "count": 0
           },
           {
            "bin_end": 0.30000000000000004,
            "bin_start": 0.2,
            "count": 0
           },
           {
            "bin_end": 0.4,
            "bin_start": 0.30000000000000004,
            "count": 0
           },
           {
            "bin_end": 0.5,
            "bin_start": 0.4,
            "count": 0
           },
           {
            "bin_end": 0.6000000000000001,
            "bin_start": 0.5,
            "count": 0
           },
           {
            "bin_end": 0.7000000000000001,
            "bin_start": 0.6000000000000001,
            "count": 0
           },
           {
            "bin_end": 0.8,
            "bin_start": 0.7000000000000001,
            "count": 0
           },
           {
            "bin_end": 0.9,
            "bin_start": 0.8,
            "count": 0
           },
           {
            "bin_end": 1,
            "bin_start": 0.9,
            "count": 198
           }
          ],
          "max": "1",
          "min": "0",
          "nan_count": 0,
          "unique_count": 2
         }
        },
        {
         "dtype": "uint8",
         "name": "Dept_Operations",
         "stats": {
          "histogram": [
           {
            "bin_end": 0.1,
            "bin_start": 0,
            "count": 790
           },
           {
            "bin_end": 0.2,
            "bin_start": 0.1,
            "count": 0
           },
           {
            "bin_end": 0.30000000000000004,
            "bin_start": 0.2,
            "count": 0
           },
           {
            "bin_end": 0.4,
            "bin_start": 0.30000000000000004,
            "count": 0
           },
           {
            "bin_end": 0.5,
            "bin_start": 0.4,
            "count": 0
           },
           {
            "bin_end": 0.6000000000000001,
            "bin_start": 0.5,
            "count": 0
           },
           {
            "bin_end": 0.7000000000000001,
            "bin_start": 0.6000000000000001,
            "count": 0
           },
           {
            "bin_end": 0.8,
            "bin_start": 0.7000000000000001,
            "count": 0
           },
           {
            "bin_end": 0.9,
            "bin_start": 0.8,
            "count": 0
           },
           {
            "bin_end": 1,
            "bin_start": 0.9,
            "count": 210
           }
          ],
          "max": "1",
          "min": "0",
          "nan_count": 0,
          "unique_count": 2
         }
        },
        {
         "dtype": "uint8",
         "name": "Dept_Sales",
         "stats": {
          "histogram": [
           {
            "bin_end": 0.1,
            "bin_start": 0,
            "count": 793
           },
           {
            "bin_end": 0.2,
            "bin_start": 0.1,
            "count": 0
           },
           {
            "bin_end": 0.30000000000000004,
            "bin_start": 0.2,
            "count": 0
           },
           {
            "bin_end": 0.4,
            "bin_start": 0.30000000000000004,
            "count": 0
           },
           {
            "bin_end": 0.5,
            "bin_start": 0.4,
            "count": 0
           },
           {
            "bin_end": 0.6000000000000001,
            "bin_start": 0.5,
            "count": 0
           },
           {
            "bin_end": 0.7000000000000001,
            "bin_start": 0.6000000000000001,
            "count": 0
           },
           {
            "bin_end": 0.8,
            "bin_start": 0.7000000000000001,
            "count": 0
           },
           {
            "bin_end": 0.9,
            "bin_start": 0.8,
            "count": 0
           },
           {
            "bin_end": 1,
            "bin_start": 0.9,
            "count": 207
           }
          ],
          "max": "1",
          "min": "0",
          "nan_count": 0,
          "unique_count": 2
         }
        },
        {
         "dtype": "int64",
         "name": "_deepnote_index_column"
        }
       ],
       "row_count": 1000,
       "rows": [
        {
         "Age": 18,
         "Dept_Administration": 0,
         "Dept_Engineering": 0,
         "Dept_Management": 0,
         "Dept_Operations": 1,
         "Dept_Sales": 0,
         "Education_College": 1,
         "Education_High School": 0,
         "Education_Masters": 0,
         "Education_PhD": 0,
         "Gender_Female": 1,
         "Gender_Male": 0,
         "JobTitle_Data Scientist": 0,
         "JobTitle_Driver": 0,
         "JobTitle_Financial Analyst": 0,
         "JobTitle_Graphic Designer": 1,
         "JobTitle_IT": 0,
         "JobTitle_Manager": 0,
         "JobTitle_Marketing Associate": 0,
         "JobTitle_Sales Associate": 0,
         "JobTitle_Software Engineer": 0,
         "JobTitle_Warehouse Associate": 0,
         "PerfEval": 5,
         "Seniority": 2,
         "_deepnote_index_column": 0
        },
        {
         "Age": 21,
         "Dept_Administration": 0,
         "Dept_Engineering": 0,
         "Dept_Management": 1,
         "Dept_Operations": 0,
         "Dept_Sales": 0,
         "Education_College": 1,
         "Education_High School": 0,
         "Education_Masters": 0,
         "Education_PhD": 0,
         "Gender_Female": 0,
         "Gender_Male": 1,
         "JobTitle_Data Scientist": 0,
         "JobTitle_Driver": 0,
         "JobTitle_Financial Analyst": 0,
         "JobTitle_Graphic Designer": 0,
         "JobTitle_IT": 0,
         "JobTitle_Manager": 0,
         "JobTitle_Marketing Associate": 0,
         "JobTitle_Sales Associate": 0,
         "JobTitle_Software Engineer": 1,
         "JobTitle_Warehouse Associate": 0,
         "PerfEval": 5,
         "Seniority": 5,
         "_deepnote_index_column": 1
        },
        {
         "Age": 19,
         "Dept_Administration": 1,
         "Dept_Engineering": 0,
         "Dept_Management": 0,
         "Dept_Operations": 0,
         "Dept_Sales": 0,
         "Education_College": 0,
         "Education_High School": 0,
         "Education_Masters": 0,
         "Education_PhD": 1,
         "Gender_Female": 1,
         "Gender_Male": 0,
         "JobTitle_Data Scientist": 0,
         "JobTitle_Driver": 0,
         "JobTitle_Financial Analyst": 0,
         "JobTitle_Graphic Designer": 0,
         "JobTitle_IT": 0,
         "JobTitle_Manager": 0,
         "JobTitle_Marketing Associate": 0,
         "JobTitle_Sales Associate": 0,
         "JobTitle_Software Engineer": 0,
         "JobTitle_Warehouse Associate": 1,
         "PerfEval": 4,
         "Seniority": 5,
         "_deepnote_index_column": 2
        },
        {
         "Age": 20,
         "Dept_Administration": 0,
         "Dept_Engineering": 0,
         "Dept_Management": 0,
         "Dept_Operations": 0,
         "Dept_Sales": 1,
         "Education_College": 0,
         "Education_High School": 0,
         "Education_Masters": 1,
         "Education_PhD": 0,
         "Gender_Female": 0,
         "Gender_Male": 1,
         "JobTitle_Data Scientist": 0,
         "JobTitle_Driver": 0,
         "JobTitle_Financial Analyst": 0,
         "JobTitle_Graphic Designer": 0,
         "JobTitle_IT": 0,
         "JobTitle_Manager": 0,
         "JobTitle_Marketing Associate": 0,
         "JobTitle_Sales Associate": 0,
         "JobTitle_Software Engineer": 1,
         "JobTitle_Warehouse Associate": 0,
         "PerfEval": 5,
         "Seniority": 4,
         "_deepnote_index_column": 3
        },
        {
         "Age": 26,
         "Dept_Administration": 0,
         "Dept_Engineering": 1,
         "Dept_Management": 0,
         "Dept_Operations": 0,
         "Dept_Sales": 0,
         "Education_College": 0,
         "Education_High School": 0,
         "Education_Masters": 1,
         "Education_PhD": 0,
         "Gender_Female": 0,
         "Gender_Male": 1,
         "JobTitle_Data Scientist": 0,
         "JobTitle_Driver": 0,
         "JobTitle_Financial Analyst": 0,
         "JobTitle_Graphic Designer": 1,
         "JobTitle_IT": 0,
         "JobTitle_Manager": 0,
         "JobTitle_Marketing Associate": 0,
         "JobTitle_Sales Associate": 0,
         "JobTitle_Software Engineer": 0,
         "JobTitle_Warehouse Associate": 0,
         "PerfEval": 5,
         "Seniority": 5,
         "_deepnote_index_column": 4
        },
        {
         "Age": 20,
         "Dept_Administration": 0,
         "Dept_Engineering": 0,
         "Dept_Management": 0,
         "Dept_Operations": 1,
         "Dept_Sales": 0,
         "Education_College": 0,
         "Education_High School": 0,
         "Education_Masters": 0,
         "Education_PhD": 1,
         "Gender_Female": 1,
         "Gender_Male": 0,
         "JobTitle_Data Scientist": 0,
         "JobTitle_Driver": 0,
         "JobTitle_Financial Analyst": 0,
         "JobTitle_Graphic Designer": 0,
         "JobTitle_IT": 1,
         "JobTitle_Manager": 0,
         "JobTitle_Marketing Associate": 0,
         "JobTitle_Sales Associate": 0,
         "JobTitle_Software Engineer": 0,
         "JobTitle_Warehouse Associate": 0,
         "PerfEval": 5,
         "Seniority": 4,
         "_deepnote_index_column": 5
        },
        {
         "Age": 20,
         "Dept_Administration": 0,
         "Dept_Engineering": 0,
         "Dept_Management": 0,
         "Dept_Operations": 0,
         "Dept_Sales": 1,
         "Education_College": 1,
         "Education_High School": 0,
         "Education_Masters": 0,
         "Education_PhD": 0,
         "Gender_Female": 1,
         "Gender_Male": 0,
         "JobTitle_Data Scientist": 0,
         "JobTitle_Driver": 0,
         "JobTitle_Financial Analyst": 0,
         "JobTitle_Graphic Designer": 1,
         "JobTitle_IT": 0,
         "JobTitle_Manager": 0,
         "JobTitle_Marketing Associate": 0,
         "JobTitle_Sales Associate": 0,
         "JobTitle_Software Engineer": 0,
         "JobTitle_Warehouse Associate": 0,
         "PerfEval": 5,
         "Seniority": 4,
         "_deepnote_index_column": 6
        },
        {
         "Age": 18,
         "Dept_Administration": 0,
         "Dept_Engineering": 1,
         "Dept_Management": 0,
         "Dept_Operations": 0,
         "Dept_Sales": 0,
         "Education_College": 0,
         "Education_High School": 0,
         "Education_Masters": 0,
         "Education_PhD": 1,
         "Gender_Female": 0,
         "Gender_Male": 1,
         "JobTitle_Data Scientist": 0,
         "JobTitle_Driver": 0,
         "JobTitle_Financial Analyst": 0,
         "JobTitle_Graphic Designer": 0,
         "JobTitle_IT": 0,
         "JobTitle_Manager": 0,
         "JobTitle_Marketing Associate": 0,
         "JobTitle_Sales Associate": 0,
         "JobTitle_Software Engineer": 1,
         "JobTitle_Warehouse Associate": 0,
         "PerfEval": 4,
         "Seniority": 5,
         "_deepnote_index_column": 7
        },
        {
         "Age": 33,
         "Dept_Administration": 0,
         "Dept_Engineering": 1,
         "Dept_Management": 0,
         "Dept_Operations": 0,
         "Dept_Sales": 0,
         "Education_College": 0,
         "Education_High School": 1,
         "Education_Masters": 0,
         "Education_PhD": 0,
         "Gender_Female": 1,
         "Gender_Male": 0,
         "JobTitle_Data Scientist": 0,
         "JobTitle_Driver": 0,
         "JobTitle_Financial Analyst": 0,
         "JobTitle_Graphic Designer": 1,
         "JobTitle_IT": 0,
         "JobTitle_Manager": 0,
         "JobTitle_Marketing Associate": 0,
         "JobTitle_Sales Associate": 0,
         "JobTitle_Software Engineer": 0,
         "JobTitle_Warehouse Associate": 0,
         "PerfEval": 5,
         "Seniority": 5,
         "_deepnote_index_column": 8
        },
        {
         "Age": 35,
         "Dept_Administration": 0,
         "Dept_Engineering": 1,
         "Dept_Management": 0,
         "Dept_Operations": 0,
         "Dept_Sales": 0,
         "Education_College": 1,
         "Education_High School": 0,
         "Education_Masters": 0,
         "Education_PhD": 0,
         "Gender_Female": 1,
         "Gender_Male": 0,
         "JobTitle_Data Scientist": 0,
         "JobTitle_Driver": 0,
         "JobTitle_Financial Analyst": 0,
         "JobTitle_Graphic Designer": 0,
         "JobTitle_IT": 0,
         "JobTitle_Manager": 0,
         "JobTitle_Marketing Associate": 0,
         "JobTitle_Sales Associate": 1,
         "JobTitle_Software Engineer": 0,
         "JobTitle_Warehouse Associate": 0,
         "PerfEval": 5,
         "Seniority": 5,
         "_deepnote_index_column": 9
        }
       ]
      },
      "text/html": "<div>\n<style scoped>\n    .dataframe tbody tr th:only-of-type {\n        vertical-align: middle;\n    }\n\n    .dataframe tbody tr th {\n        vertical-align: top;\n    }\n\n    .dataframe thead th {\n        text-align: right;\n    }\n</style>\n<table border=\"1\" class=\"dataframe\">\n  <thead>\n    <tr style=\"text-align: right;\">\n      <th></th>\n      <th>PerfEval</th>\n      <th>Seniority</th>\n      <th>Age</th>\n      <th>Education_College</th>\n      <th>Education_High School</th>\n      <th>Education_Masters</th>\n      <th>Education_PhD</th>\n      <th>JobTitle_Data Scientist</th>\n      <th>JobTitle_Driver</th>\n      <th>JobTitle_Financial Analyst</th>\n      <th>...</th>\n      <th>JobTitle_Sales Associate</th>\n      <th>JobTitle_Software Engineer</th>\n      <th>JobTitle_Warehouse Associate</th>\n      <th>Gender_Female</th>\n      <th>Gender_Male</th>\n      <th>Dept_Administration</th>\n      <th>Dept_Engineering</th>\n      <th>Dept_Management</th>\n      <th>Dept_Operations</th>\n      <th>Dept_Sales</th>\n    </tr>\n  </thead>\n  <tbody>\n    <tr>\n      <th>0</th>\n      <td>5</td>\n      <td>2</td>\n      <td>18</td>\n      <td>1</td>\n      <td>0</td>\n      <td>0</td>\n      <td>0</td>\n      <td>0</td>\n      <td>0</td>\n      <td>0</td>\n      <td>...</td>\n      <td>0</td>\n      <td>0</td>\n      <td>0</td>\n      <td>1</td>\n      <td>0</td>\n      <td>0</td>\n      <td>0</td>\n      <td>0</td>\n      <td>1</td>\n      <td>0</td>\n    </tr>\n    <tr>\n      <th>1</th>\n      <td>5</td>\n      <td>5</td>\n      <td>21</td>\n      <td>1</td>\n      <td>0</td>\n      <td>0</td>\n      <td>0</td>\n      <td>0</td>\n      <td>0</td>\n      <td>0</td>\n      <td>...</td>\n      <td>0</td>\n      <td>1</td>\n      <td>0</td>\n      <td>0</td>\n      <td>1</td>\n      <td>0</td>\n      <td>0</td>\n      <td>1</td>\n      <td>0</td>\n      <td>0</td>\n    </tr>\n    <tr>\n      <th>2</th>\n      <td>4</td>\n      <td>5</td>\n      <td>19</td>\n      <td>0</td>\n      <td>0</td>\n      <td>0</td>\n      <td>1</td>\n      <td>0</td>\n      <td>0</td>\n      <td>0</td>\n      <td>...</td>\n      <td>0</td>\n      <td>0</td>\n      <td>1</td>\n      <td>1</td>\n      <td>0</td>\n      <td>1</td>\n      <td>0</td>\n      <td>0</td>\n      <td>0</td>\n      <td>0</td>\n    </tr>\n    <tr>\n      <th>3</th>\n      <td>5</td>\n      <td>4</td>\n      <td>20</td>\n      <td>0</td>\n      <td>0</td>\n      <td>1</td>\n      <td>0</td>\n      <td>0</td>\n      <td>0</td>\n      <td>0</td>\n      <td>...</td>\n      <td>0</td>\n      <td>1</td>\n      <td>0</td>\n      <td>0</td>\n      <td>1</td>\n      <td>0</td>\n      <td>0</td>\n      <td>0</td>\n      <td>0</td>\n      <td>1</td>\n    </tr>\n    <tr>\n      <th>4</th>\n      <td>5</td>\n      <td>5</td>\n      <td>26</td>\n      <td>0</td>\n      <td>0</td>\n      <td>1</td>\n      <td>0</td>\n      <td>0</td>\n      <td>0</td>\n      <td>0</td>\n      <td>...</td>\n      <td>0</td>\n      <td>0</td>\n      <td>0</td>\n      <td>0</td>\n      <td>1</td>\n      <td>0</td>\n      <td>1</td>\n      <td>0</td>\n      <td>0</td>\n      <td>0</td>\n    </tr>\n    <tr>\n      <th>...</th>\n      <td>...</td>\n      <td>...</td>\n      <td>...</td>\n      <td>...</td>\n      <td>...</td>\n      <td>...</td>\n      <td>...</td>\n      <td>...</td>\n      <td>...</td>\n      <td>...</td>\n      <td>...</td>\n      <td>...</td>\n      <td>...</td>\n      <td>...</td>\n      <td>...</td>\n      <td>...</td>\n      <td>...</td>\n      <td>...</td>\n      <td>...</td>\n      <td>...</td>\n      <td>...</td>\n    </tr>\n    <tr>\n      <th>995</th>\n      <td>1</td>\n      <td>1</td>\n      <td>61</td>\n      <td>0</td>\n      <td>1</td>\n      <td>0</td>\n      <td>0</td>\n      <td>0</td>\n      <td>0</td>\n      <td>0</td>\n      <td>...</td>\n      <td>0</td>\n      <td>0</td>\n      <td>0</td>\n      <td>1</td>\n      <td>0</td>\n      <td>1</td>\n      <td>0</td>\n      <td>0</td>\n      <td>0</td>\n      <td>0</td>\n    </tr>\n    <tr>\n      <th>996</th>\n      <td>1</td>\n      <td>2</td>\n      <td>57</td>\n      <td>0</td>\n      <td>0</td>\n      <td>1</td>\n      <td>0</td>\n      <td>1</td>\n      <td>0</td>\n      <td>0</td>\n      <td>...</td>\n      <td>0</td>\n      <td>0</td>\n      <td>0</td>\n      <td>0</td>\n      <td>1</td>\n      <td>0</td>\n      <td>0</td>\n      <td>0</td>\n      <td>0</td>\n      <td>1</td>\n    </tr>\n    <tr>\n      <th>997</th>\n      <td>1</td>\n      <td>1</td>\n      <td>48</td>\n      <td>0</td>\n      <td>1</td>\n      <td>0</td>\n      <td>0</td>\n      <td>0</td>\n      <td>0</td>\n      <td>1</td>\n      <td>...</td>\n      <td>0</td>\n      <td>0</td>\n      <td>0</td>\n      <td>0</td>\n      <td>1</td>\n      <td>0</td>\n      <td>0</td>\n      <td>0</td>\n      <td>1</td>\n      <td>0</td>\n    </tr>\n    <tr>\n      <th>998</th>\n      <td>2</td>\n      <td>1</td>\n      <td>65</td>\n      <td>0</td>\n      <td>1</td>\n      <td>0</td>\n      <td>0</td>\n      <td>0</td>\n      <td>0</td>\n      <td>1</td>\n      <td>...</td>\n      <td>0</td>\n      <td>0</td>\n      <td>0</td>\n      <td>0</td>\n      <td>1</td>\n      <td>1</td>\n      <td>0</td>\n      <td>0</td>\n      <td>0</td>\n      <td>0</td>\n    </tr>\n    <tr>\n      <th>999</th>\n      <td>1</td>\n      <td>2</td>\n      <td>60</td>\n      <td>0</td>\n      <td>0</td>\n      <td>0</td>\n      <td>1</td>\n      <td>0</td>\n      <td>0</td>\n      <td>1</td>\n      <td>...</td>\n      <td>0</td>\n      <td>0</td>\n      <td>0</td>\n      <td>0</td>\n      <td>1</td>\n      <td>0</td>\n      <td>0</td>\n      <td>0</td>\n      <td>0</td>\n      <td>1</td>\n    </tr>\n  </tbody>\n</table>\n<p>1000 rows × 24 columns</p>\n</div>",
      "text/plain": "     PerfEval  Seniority  Age  Education_College  Education_High School  \\\n0           5          2   18                  1                      0   \n1           5          5   21                  1                      0   \n2           4          5   19                  0                      0   \n3           5          4   20                  0                      0   \n4           5          5   26                  0                      0   \n..        ...        ...  ...                ...                    ...   \n995         1          1   61                  0                      1   \n996         1          2   57                  0                      0   \n997         1          1   48                  0                      1   \n998         2          1   65                  0                      1   \n999         1          2   60                  0                      0   \n\n     Education_Masters  Education_PhD  JobTitle_Data Scientist  \\\n0                    0              0                        0   \n1                    0              0                        0   \n2                    0              1                        0   \n3                    1              0                        0   \n4                    1              0                        0   \n..                 ...            ...                      ...   \n995                  0              0                        0   \n996                  1              0                        1   \n997                  0              0                        0   \n998                  0              0                        0   \n999                  0              1                        0   \n\n     JobTitle_Driver  JobTitle_Financial Analyst  ...  \\\n0                  0                           0  ...   \n1                  0                           0  ...   \n2                  0                           0  ...   \n3                  0                           0  ...   \n4                  0                           0  ...   \n..               ...                         ...  ...   \n995                0                           0  ...   \n996                0                           0  ...   \n997                0                           1  ...   \n998                0                           1  ...   \n999                0                           1  ...   \n\n     JobTitle_Sales Associate  JobTitle_Software Engineer  \\\n0                           0                           0   \n1                           0                           1   \n2                           0                           0   \n3                           0                           1   \n4                           0                           0   \n..                        ...                         ...   \n995                         0                           0   \n996                         0                           0   \n997                         0                           0   \n998                         0                           0   \n999                         0                           0   \n\n     JobTitle_Warehouse Associate  Gender_Female  Gender_Male  \\\n0                               0              1            0   \n1                               0              0            1   \n2                               1              1            0   \n3                               0              0            1   \n4                               0              0            1   \n..                            ...            ...          ...   \n995                             0              1            0   \n996                             0              0            1   \n997                             0              0            1   \n998                             0              0            1   \n999                             0              0            1   \n\n     Dept_Administration  Dept_Engineering  Dept_Management  Dept_Operations  \\\n0                      0                 0                0                1   \n1                      0                 0                1                0   \n2                      1                 0                0                0   \n3                      0                 0                0                0   \n4                      0                 1                0                0   \n..                   ...               ...              ...              ...   \n995                    1                 0                0                0   \n996                    0                 0                0                0   \n997                    0                 0                0                1   \n998                    1                 0                0                0   \n999                    0                 0                0                0   \n\n     Dept_Sales  \n0             0  \n1             0  \n2             0  \n3             1  \n4             0  \n..          ...  \n995           0  \n996           1  \n997           0  \n998           0  \n999           1  \n\n[1000 rows x 24 columns]"
     },
     "execution_count": 15,
     "metadata": {},
     "output_type": "execute_result"
    }
   ]
  },
  {
   "cell_type": "code",
   "metadata": {
    "deepnote_to_be_reexecuted": false,
    "execution_millis": 16,
    "execution_start": 1650604397689,
    "source_hash": "8aada210",
    "tags": [],
    "cell_id": "00005-5443e18b-5257-4789-8f77-3df72b1a4c4c",
    "deepnote_cell_type": "code",
    "deepnote_cell_height": 136.1875,
    "deepnote_output_heights": [
     21.1875
    ]
   },
   "source": "Q3Income = data['income'].quantile(0.75)\nQ3Income",
   "execution_count": 9,
   "outputs": [
    {
     "data": {
      "text/plain": "117656.0"
     },
     "execution_count": 9,
     "metadata": {},
     "output_type": "execute_result"
    }
   ]
  },
  {
   "cell_type": "code",
   "metadata": {
    "deepnote_to_be_reexecuted": false,
    "execution_millis": 24,
    "execution_start": 1650604400272,
    "source_hash": "2d282592",
    "tags": [],
    "cell_id": "00006-956f8093-e0ce-4eb9-9c6c-ebe6d81ef148",
    "deepnote_cell_type": "code",
    "deepnote_cell_height": 270
   },
   "source": "newIncome = pd.DataFrame(data['income'])\nnewIncome.info()",
   "execution_count": 10,
   "outputs": [
    {
     "name": "stdout",
     "output_type": "stream",
     "text": "<class 'pandas.core.frame.DataFrame'>\nRangeIndex: 1000 entries, 0 to 999\nData columns (total 1 columns):\n #   Column  Non-Null Count  Dtype\n---  ------  --------------  -----\n 0   income  1000 non-null   int64\ndtypes: int64(1)\nmemory usage: 7.9 KB\n"
    }
   ]
  },
  {
   "cell_type": "code",
   "metadata": {
    "deepnote_to_be_reexecuted": false,
    "execution_millis": 111,
    "execution_start": 1650604456402,
    "source_hash": "8c219c1a",
    "tags": [],
    "cell_id": "00007-ee5ad27e-133f-4c69-b113-4375eb74a360",
    "deepnote_cell_type": "code",
    "deepnote_cell_height": 552.59375
   },
   "source": "# Combining Numeric features with the OHE Categorical features\nxData_res = data['income']\nxData_ohe = pd.concat([x_dummies, xData_res], \n                           sort = False, axis = 1).reindex(index=xData_res.index)\nxData_ohe['income'].values[xData_ohe['income'].values < Q3Income] = False\nxData_ohe['income'].values[xData_ohe['income'].values >= Q3Income] = True\n\n# Check the final dataframe\nxData_ohe.head()",
   "execution_count": 17,
   "outputs": [
    {
     "data": {
      "application/vnd.deepnote.dataframe.v3+json": {
       "column_count": 25,
       "columns": [
        {
         "dtype": "int64",
         "name": "PerfEval",
         "stats": {
          "histogram": [
           {
            "bin_end": 4.1,
            "bin_start": 4,
            "count": 1
           },
           {
            "bin_end": 4.2,
            "bin_start": 4.1,
            "count": 0
           },
           {
            "bin_end": 4.3,
            "bin_start": 4.2,
            "count": 0
           },
           {
            "bin_end": 4.4,
            "bin_start": 4.3,
            "count": 0
           },
           {
            "bin_end": 4.5,
            "bin_start": 4.4,
            "count": 0
           },
           {
            "bin_end": 4.6,
            "bin_start": 4.5,
            "count": 0
           },
           {
            "bin_end": 4.7,
            "bin_start": 4.6,
            "count": 0
           },
           {
            "bin_end": 4.8,
            "bin_start": 4.7,
            "count": 0
           },
           {
            "bin_end": 4.9,
            "bin_start": 4.8,
            "count": 0
           },
           {
            "bin_end": 5,
            "bin_start": 4.9,
            "count": 4
           }
          ],
          "max": "5",
          "min": "4",
          "nan_count": 0,
          "unique_count": 2
         }
        },
        {
         "dtype": "int64",
         "name": "Seniority",
         "stats": {
          "histogram": [
           {
            "bin_end": 2.3,
            "bin_start": 2,
            "count": 1
           },
           {
            "bin_end": 2.6,
            "bin_start": 2.3,
            "count": 0
           },
           {
            "bin_end": 2.9,
            "bin_start": 2.6,
            "count": 0
           },
           {
            "bin_end": 3.2,
            "bin_start": 2.9,
            "count": 0
           },
           {
            "bin_end": 3.5,
            "bin_start": 3.2,
            "count": 0
           },
           {
            "bin_end": 3.8,
            "bin_start": 3.5,
            "count": 0
           },
           {
            "bin_end": 4.1,
            "bin_start": 3.8,
            "count": 1
           },
           {
            "bin_end": 4.4,
            "bin_start": 4.1,
            "count": 0
           },
           {
            "bin_end": 4.699999999999999,
            "bin_start": 4.4,
            "count": 0
           },
           {
            "bin_end": 5,
            "bin_start": 4.699999999999999,
            "count": 3
           }
          ],
          "max": "5",
          "min": "2",
          "nan_count": 0,
          "unique_count": 3
         }
        },
        {
         "dtype": "int64",
         "name": "Age",
         "stats": {
          "histogram": [
           {
            "bin_end": 18.8,
            "bin_start": 18,
            "count": 1
           },
           {
            "bin_end": 19.6,
            "bin_start": 18.8,
            "count": 1
           },
           {
            "bin_end": 20.4,
            "bin_start": 19.6,
            "count": 1
           },
           {
            "bin_end": 21.2,
            "bin_start": 20.4,
            "count": 1
           },
           {
            "bin_end": 22,
            "bin_start": 21.2,
            "count": 0
           },
           {
            "bin_end": 22.8,
            "bin_start": 22,
            "count": 0
           },
           {
            "bin_end": 23.6,
            "bin_start": 22.8,
            "count": 0
           },
           {
            "bin_end": 24.4,
            "bin_start": 23.6,
            "count": 0
           },
           {
            "bin_end": 25.2,
            "bin_start": 24.4,
            "count": 0
           },
           {
            "bin_end": 26,
            "bin_start": 25.2,
            "count": 1
           }
          ],
          "max": "26",
          "min": "18",
          "nan_count": 0,
          "unique_count": 5
         }
        },
        {
         "dtype": "uint8",
         "name": "Education_College",
         "stats": {
          "histogram": [
           {
            "bin_end": 0.1,
            "bin_start": 0,
            "count": 3
           },
           {
            "bin_end": 0.2,
            "bin_start": 0.1,
            "count": 0
           },
           {
            "bin_end": 0.30000000000000004,
            "bin_start": 0.2,
            "count": 0
           },
           {
            "bin_end": 0.4,
            "bin_start": 0.30000000000000004,
            "count": 0
           },
           {
            "bin_end": 0.5,
            "bin_start": 0.4,
            "count": 0
           },
           {
            "bin_end": 0.6000000000000001,
            "bin_start": 0.5,
            "count": 0
           },
           {
            "bin_end": 0.7000000000000001,
            "bin_start": 0.6000000000000001,
            "count": 0
           },
           {
            "bin_end": 0.8,
            "bin_start": 0.7000000000000001,
            "count": 0
           },
           {
            "bin_end": 0.9,
            "bin_start": 0.8,
            "count": 0
           },
           {
            "bin_end": 1,
            "bin_start": 0.9,
            "count": 2
           }
          ],
          "max": "1",
          "min": "0",
          "nan_count": 0,
          "unique_count": 2
         }
        },
        {
         "dtype": "uint8",
         "name": "Education_High School",
         "stats": {
          "histogram": [
           {
            "bin_end": -0.4,
            "bin_start": -0.5,
            "count": 0
           },
           {
            "bin_end": -0.3,
            "bin_start": -0.4,
            "count": 0
           },
           {
            "bin_end": -0.19999999999999996,
            "bin_start": -0.3,
            "count": 0
           },
           {
            "bin_end": -0.09999999999999998,
            "bin_start": -0.19999999999999996,
            "count": 0
           },
           {
            "bin_end": 0,
            "bin_start": -0.09999999999999998,
            "count": 0
           },
           {
            "bin_end": 0.10000000000000009,
            "bin_start": 0,
            "count": 5
           },
           {
            "bin_end": 0.20000000000000007,
            "bin_start": 0.10000000000000009,
            "count": 0
           },
           {
            "bin_end": 0.30000000000000004,
            "bin_start": 0.20000000000000007,
            "count": 0
           },
           {
            "bin_end": 0.4,
            "bin_start": 0.30000000000000004,
            "count": 0
           },
           {
            "bin_end": 0.5,
            "bin_start": 0.4,
            "count": 0
           }
          ],
          "max": "0",
          "min": "0",
          "nan_count": 0,
          "unique_count": 1
         }
        },
        {
         "dtype": "uint8",
         "name": "Education_Masters",
         "stats": {
          "histogram": [
           {
            "bin_end": 0.1,
            "bin_start": 0,
            "count": 3
           },
           {
            "bin_end": 0.2,
            "bin_start": 0.1,
            "count": 0
           },
           {
            "bin_end": 0.30000000000000004,
            "bin_start": 0.2,
            "count": 0
           },
           {
            "bin_end": 0.4,
            "bin_start": 0.30000000000000004,
            "count": 0
           },
           {
            "bin_end": 0.5,
            "bin_start": 0.4,
            "count": 0
           },
           {
            "bin_end": 0.6000000000000001,
            "bin_start": 0.5,
            "count": 0
           },
           {
            "bin_end": 0.7000000000000001,
            "bin_start": 0.6000000000000001,
            "count": 0
           },
           {
            "bin_end": 0.8,
            "bin_start": 0.7000000000000001,
            "count": 0
           },
           {
            "bin_end": 0.9,
            "bin_start": 0.8,
            "count": 0
           },
           {
            "bin_end": 1,
            "bin_start": 0.9,
            "count": 2
           }
          ],
          "max": "1",
          "min": "0",
          "nan_count": 0,
          "unique_count": 2
         }
        },
        {
         "dtype": "uint8",
         "name": "Education_PhD",
         "stats": {
          "histogram": [
           {
            "bin_end": 0.1,
            "bin_start": 0,
            "count": 4
           },
           {
            "bin_end": 0.2,
            "bin_start": 0.1,
            "count": 0
           },
           {
            "bin_end": 0.30000000000000004,
            "bin_start": 0.2,
            "count": 0
           },
           {
            "bin_end": 0.4,
            "bin_start": 0.30000000000000004,
            "count": 0
           },
           {
            "bin_end": 0.5,
            "bin_start": 0.4,
            "count": 0
           },
           {
            "bin_end": 0.6000000000000001,
            "bin_start": 0.5,
            "count": 0
           },
           {
            "bin_end": 0.7000000000000001,
            "bin_start": 0.6000000000000001,
            "count": 0
           },
           {
            "bin_end": 0.8,
            "bin_start": 0.7000000000000001,
            "count": 0
           },
           {
            "bin_end": 0.9,
            "bin_start": 0.8,
            "count": 0
           },
           {
            "bin_end": 1,
            "bin_start": 0.9,
            "count": 1
           }
          ],
          "max": "1",
          "min": "0",
          "nan_count": 0,
          "unique_count": 2
         }
        },
        {
         "dtype": "uint8",
         "name": "JobTitle_Data Scientist",
         "stats": {
          "histogram": [
           {
            "bin_end": -0.4,
            "bin_start": -0.5,
            "count": 0
           },
           {
            "bin_end": -0.3,
            "bin_start": -0.4,
            "count": 0
           },
           {
            "bin_end": -0.19999999999999996,
            "bin_start": -0.3,
            "count": 0
           },
           {
            "bin_end": -0.09999999999999998,
            "bin_start": -0.19999999999999996,
            "count": 0
           },
           {
            "bin_end": 0,
            "bin_start": -0.09999999999999998,
            "count": 0
           },
           {
            "bin_end": 0.10000000000000009,
            "bin_start": 0,
            "count": 5
           },
           {
            "bin_end": 0.20000000000000007,
            "bin_start": 0.10000000000000009,
            "count": 0
           },
           {
            "bin_end": 0.30000000000000004,
            "bin_start": 0.20000000000000007,
            "count": 0
           },
           {
            "bin_end": 0.4,
            "bin_start": 0.30000000000000004,
            "count": 0
           },
           {
            "bin_end": 0.5,
            "bin_start": 0.4,
            "count": 0
           }
          ],
          "max": "0",
          "min": "0",
          "nan_count": 0,
          "unique_count": 1
         }
        },
        {
         "dtype": "uint8",
         "name": "JobTitle_Driver",
         "stats": {
          "histogram": [
           {
            "bin_end": -0.4,
            "bin_start": -0.5,
            "count": 0
           },
           {
            "bin_end": -0.3,
            "bin_start": -0.4,
            "count": 0
           },
           {
            "bin_end": -0.19999999999999996,
            "bin_start": -0.3,
            "count": 0
           },
           {
            "bin_end": -0.09999999999999998,
            "bin_start": -0.19999999999999996,
            "count": 0
           },
           {
            "bin_end": 0,
            "bin_start": -0.09999999999999998,
            "count": 0
           },
           {
            "bin_end": 0.10000000000000009,
            "bin_start": 0,
            "count": 5
           },
           {
            "bin_end": 0.20000000000000007,
            "bin_start": 0.10000000000000009,
            "count": 0
           },
           {
            "bin_end": 0.30000000000000004,
            "bin_start": 0.20000000000000007,
            "count": 0
           },
           {
            "bin_end": 0.4,
            "bin_start": 0.30000000000000004,
            "count": 0
           },
           {
            "bin_end": 0.5,
            "bin_start": 0.4,
            "count": 0
           }
          ],
          "max": "0",
          "min": "0",
          "nan_count": 0,
          "unique_count": 1
         }
        },
        {
         "dtype": "uint8",
         "name": "JobTitle_Financial Analyst",
         "stats": {
          "histogram": [
           {
            "bin_end": -0.4,
            "bin_start": -0.5,
            "count": 0
           },
           {
            "bin_end": -0.3,
            "bin_start": -0.4,
            "count": 0
           },
           {
            "bin_end": -0.19999999999999996,
            "bin_start": -0.3,
            "count": 0
           },
           {
            "bin_end": -0.09999999999999998,
            "bin_start": -0.19999999999999996,
            "count": 0
           },
           {
            "bin_end": 0,
            "bin_start": -0.09999999999999998,
            "count": 0
           },
           {
            "bin_end": 0.10000000000000009,
            "bin_start": 0,
            "count": 5
           },
           {
            "bin_end": 0.20000000000000007,
            "bin_start": 0.10000000000000009,
            "count": 0
           },
           {
            "bin_end": 0.30000000000000004,
            "bin_start": 0.20000000000000007,
            "count": 0
           },
           {
            "bin_end": 0.4,
            "bin_start": 0.30000000000000004,
            "count": 0
           },
           {
            "bin_end": 0.5,
            "bin_start": 0.4,
            "count": 0
           }
          ],
          "max": "0",
          "min": "0",
          "nan_count": 0,
          "unique_count": 1
         }
        },
        {
         "dtype": "uint8",
         "name": "JobTitle_Graphic Designer",
         "stats": {
          "histogram": [
           {
            "bin_end": 0.1,
            "bin_start": 0,
            "count": 3
           },
           {
            "bin_end": 0.2,
            "bin_start": 0.1,
            "count": 0
           },
           {
            "bin_end": 0.30000000000000004,
            "bin_start": 0.2,
            "count": 0
           },
           {
            "bin_end": 0.4,
            "bin_start": 0.30000000000000004,
            "count": 0
           },
           {
            "bin_end": 0.5,
            "bin_start": 0.4,
            "count": 0
           },
           {
            "bin_end": 0.6000000000000001,
            "bin_start": 0.5,
            "count": 0
           },
           {
            "bin_end": 0.7000000000000001,
            "bin_start": 0.6000000000000001,
            "count": 0
           },
           {
            "bin_end": 0.8,
            "bin_start": 0.7000000000000001,
            "count": 0
           },
           {
            "bin_end": 0.9,
            "bin_start": 0.8,
            "count": 0
           },
           {
            "bin_end": 1,
            "bin_start": 0.9,
            "count": 2
           }
          ],
          "max": "1",
          "min": "0",
          "nan_count": 0,
          "unique_count": 2
         }
        },
        {
         "dtype": "uint8",
         "name": "JobTitle_IT",
         "stats": {
          "histogram": [
           {
            "bin_end": -0.4,
            "bin_start": -0.5,
            "count": 0
           },
           {
            "bin_end": -0.3,
            "bin_start": -0.4,
            "count": 0
           },
           {
            "bin_end": -0.19999999999999996,
            "bin_start": -0.3,
            "count": 0
           },
           {
            "bin_end": -0.09999999999999998,
            "bin_start": -0.19999999999999996,
            "count": 0
           },
           {
            "bin_end": 0,
            "bin_start": -0.09999999999999998,
            "count": 0
           },
           {
            "bin_end": 0.10000000000000009,
            "bin_start": 0,
            "count": 5
           },
           {
            "bin_end": 0.20000000000000007,
            "bin_start": 0.10000000000000009,
            "count": 0
           },
           {
            "bin_end": 0.30000000000000004,
            "bin_start": 0.20000000000000007,
            "count": 0
           },
           {
            "bin_end": 0.4,
            "bin_start": 0.30000000000000004,
            "count": 0
           },
           {
            "bin_end": 0.5,
            "bin_start": 0.4,
            "count": 0
           }
          ],
          "max": "0",
          "min": "0",
          "nan_count": 0,
          "unique_count": 1
         }
        },
        {
         "dtype": "uint8",
         "name": "JobTitle_Manager",
         "stats": {
          "histogram": [
           {
            "bin_end": -0.4,
            "bin_start": -0.5,
            "count": 0
           },
           {
            "bin_end": -0.3,
            "bin_start": -0.4,
            "count": 0
           },
           {
            "bin_end": -0.19999999999999996,
            "bin_start": -0.3,
            "count": 0
           },
           {
            "bin_end": -0.09999999999999998,
            "bin_start": -0.19999999999999996,
            "count": 0
           },
           {
            "bin_end": 0,
            "bin_start": -0.09999999999999998,
            "count": 0
           },
           {
            "bin_end": 0.10000000000000009,
            "bin_start": 0,
            "count": 5
           },
           {
            "bin_end": 0.20000000000000007,
            "bin_start": 0.10000000000000009,
            "count": 0
           },
           {
            "bin_end": 0.30000000000000004,
            "bin_start": 0.20000000000000007,
            "count": 0
           },
           {
            "bin_end": 0.4,
            "bin_start": 0.30000000000000004,
            "count": 0
           },
           {
            "bin_end": 0.5,
            "bin_start": 0.4,
            "count": 0
           }
          ],
          "max": "0",
          "min": "0",
          "nan_count": 0,
          "unique_count": 1
         }
        },
        {
         "dtype": "uint8",
         "name": "JobTitle_Marketing Associate",
         "stats": {
          "histogram": [
           {
            "bin_end": -0.4,
            "bin_start": -0.5,
            "count": 0
           },
           {
            "bin_end": -0.3,
            "bin_start": -0.4,
            "count": 0
           },
           {
            "bin_end": -0.19999999999999996,
            "bin_start": -0.3,
            "count": 0
           },
           {
            "bin_end": -0.09999999999999998,
            "bin_start": -0.19999999999999996,
            "count": 0
           },
           {
            "bin_end": 0,
            "bin_start": -0.09999999999999998,
            "count": 0
           },
           {
            "bin_end": 0.10000000000000009,
            "bin_start": 0,
            "count": 5
           },
           {
            "bin_end": 0.20000000000000007,
            "bin_start": 0.10000000000000009,
            "count": 0
           },
           {
            "bin_end": 0.30000000000000004,
            "bin_start": 0.20000000000000007,
            "count": 0
           },
           {
            "bin_end": 0.4,
            "bin_start": 0.30000000000000004,
            "count": 0
           },
           {
            "bin_end": 0.5,
            "bin_start": 0.4,
            "count": 0
           }
          ],
          "max": "0",
          "min": "0",
          "nan_count": 0,
          "unique_count": 1
         }
        },
        {
         "dtype": "uint8",
         "name": "JobTitle_Sales Associate",
         "stats": {
          "histogram": [
           {
            "bin_end": -0.4,
            "bin_start": -0.5,
            "count": 0
           },
           {
            "bin_end": -0.3,
            "bin_start": -0.4,
            "count": 0
           },
           {
            "bin_end": -0.19999999999999996,
            "bin_start": -0.3,
            "count": 0
           },
           {
            "bin_end": -0.09999999999999998,
            "bin_start": -0.19999999999999996,
            "count": 0
           },
           {
            "bin_end": 0,
            "bin_start": -0.09999999999999998,
            "count": 0
           },
           {
            "bin_end": 0.10000000000000009,
            "bin_start": 0,
            "count": 5
           },
           {
            "bin_end": 0.20000000000000007,
            "bin_start": 0.10000000000000009,
            "count": 0
           },
           {
            "bin_end": 0.30000000000000004,
            "bin_start": 0.20000000000000007,
            "count": 0
           },
           {
            "bin_end": 0.4,
            "bin_start": 0.30000000000000004,
            "count": 0
           },
           {
            "bin_end": 0.5,
            "bin_start": 0.4,
            "count": 0
           }
          ],
          "max": "0",
          "min": "0",
          "nan_count": 0,
          "unique_count": 1
         }
        },
        {
         "dtype": "uint8",
         "name": "JobTitle_Software Engineer",
         "stats": {
          "histogram": [
           {
            "bin_end": 0.1,
            "bin_start": 0,
            "count": 3
           },
           {
            "bin_end": 0.2,
            "bin_start": 0.1,
            "count": 0
           },
           {
            "bin_end": 0.30000000000000004,
            "bin_start": 0.2,
            "count": 0
           },
           {
            "bin_end": 0.4,
            "bin_start": 0.30000000000000004,
            "count": 0
           },
           {
            "bin_end": 0.5,
            "bin_start": 0.4,
            "count": 0
           },
           {
            "bin_end": 0.6000000000000001,
            "bin_start": 0.5,
            "count": 0
           },
           {
            "bin_end": 0.7000000000000001,
            "bin_start": 0.6000000000000001,
            "count": 0
           },
           {
            "bin_end": 0.8,
            "bin_start": 0.7000000000000001,
            "count": 0
           },
           {
            "bin_end": 0.9,
            "bin_start": 0.8,
            "count": 0
           },
           {
            "bin_end": 1,
            "bin_start": 0.9,
            "count": 2
           }
          ],
          "max": "1",
          "min": "0",
          "nan_count": 0,
          "unique_count": 2
         }
        },
        {
         "dtype": "uint8",
         "name": "JobTitle_Warehouse Associate",
         "stats": {
          "histogram": [
           {
            "bin_end": 0.1,
            "bin_start": 0,
            "count": 4
           },
           {
            "bin_end": 0.2,
            "bin_start": 0.1,
            "count": 0
           },
           {
            "bin_end": 0.30000000000000004,
            "bin_start": 0.2,
            "count": 0
           },
           {
            "bin_end": 0.4,
            "bin_start": 0.30000000000000004,
            "count": 0
           },
           {
            "bin_end": 0.5,
            "bin_start": 0.4,
            "count": 0
           },
           {
            "bin_end": 0.6000000000000001,
            "bin_start": 0.5,
            "count": 0
           },
           {
            "bin_end": 0.7000000000000001,
            "bin_start": 0.6000000000000001,
            "count": 0
           },
           {
            "bin_end": 0.8,
            "bin_start": 0.7000000000000001,
            "count": 0
           },
           {
            "bin_end": 0.9,
            "bin_start": 0.8,
            "count": 0
           },
           {
            "bin_end": 1,
            "bin_start": 0.9,
            "count": 1
           }
          ],
          "max": "1",
          "min": "0",
          "nan_count": 0,
          "unique_count": 2
         }
        },
        {
         "dtype": "uint8",
         "name": "Gender_Female",
         "stats": {
          "histogram": [
           {
            "bin_end": 0.1,
            "bin_start": 0,
            "count": 3
           },
           {
            "bin_end": 0.2,
            "bin_start": 0.1,
            "count": 0
           },
           {
            "bin_end": 0.30000000000000004,
            "bin_start": 0.2,
            "count": 0
           },
           {
            "bin_end": 0.4,
            "bin_start": 0.30000000000000004,
            "count": 0
           },
           {
            "bin_end": 0.5,
            "bin_start": 0.4,
            "count": 0
           },
           {
            "bin_end": 0.6000000000000001,
            "bin_start": 0.5,
            "count": 0
           },
           {
            "bin_end": 0.7000000000000001,
            "bin_start": 0.6000000000000001,
            "count": 0
           },
           {
            "bin_end": 0.8,
            "bin_start": 0.7000000000000001,
            "count": 0
           },
           {
            "bin_end": 0.9,
            "bin_start": 0.8,
            "count": 0
           },
           {
            "bin_end": 1,
            "bin_start": 0.9,
            "count": 2
           }
          ],
          "max": "1",
          "min": "0",
          "nan_count": 0,
          "unique_count": 2
         }
        },
        {
         "dtype": "uint8",
         "name": "Gender_Male",
         "stats": {
          "histogram": [
           {
            "bin_end": 0.1,
            "bin_start": 0,
            "count": 2
           },
           {
            "bin_end": 0.2,
            "bin_start": 0.1,
            "count": 0
           },
           {
            "bin_end": 0.30000000000000004,
            "bin_start": 0.2,
            "count": 0
           },
           {
            "bin_end": 0.4,
            "bin_start": 0.30000000000000004,
            "count": 0
           },
           {
            "bin_end": 0.5,
            "bin_start": 0.4,
            "count": 0
           },
           {
            "bin_end": 0.6000000000000001,
            "bin_start": 0.5,
            "count": 0
           },
           {
            "bin_end": 0.7000000000000001,
            "bin_start": 0.6000000000000001,
            "count": 0
           },
           {
            "bin_end": 0.8,
            "bin_start": 0.7000000000000001,
            "count": 0
           },
           {
            "bin_end": 0.9,
            "bin_start": 0.8,
            "count": 0
           },
           {
            "bin_end": 1,
            "bin_start": 0.9,
            "count": 3
           }
          ],
          "max": "1",
          "min": "0",
          "nan_count": 0,
          "unique_count": 2
         }
        },
        {
         "dtype": "uint8",
         "name": "Dept_Administration",
         "stats": {
          "histogram": [
           {
            "bin_end": 0.1,
            "bin_start": 0,
            "count": 4
           },
           {
            "bin_end": 0.2,
            "bin_start": 0.1,
            "count": 0
           },
           {
            "bin_end": 0.30000000000000004,
            "bin_start": 0.2,
            "count": 0
           },
           {
            "bin_end": 0.4,
            "bin_start": 0.30000000000000004,
            "count": 0
           },
           {
            "bin_end": 0.5,
            "bin_start": 0.4,
            "count": 0
           },
           {
            "bin_end": 0.6000000000000001,
            "bin_start": 0.5,
            "count": 0
           },
           {
            "bin_end": 0.7000000000000001,
            "bin_start": 0.6000000000000001,
            "count": 0
           },
           {
            "bin_end": 0.8,
            "bin_start": 0.7000000000000001,
            "count": 0
           },
           {
            "bin_end": 0.9,
            "bin_start": 0.8,
            "count": 0
           },
           {
            "bin_end": 1,
            "bin_start": 0.9,
            "count": 1
           }
          ],
          "max": "1",
          "min": "0",
          "nan_count": 0,
          "unique_count": 2
         }
        },
        {
         "dtype": "uint8",
         "name": "Dept_Engineering",
         "stats": {
          "histogram": [
           {
            "bin_end": 0.1,
            "bin_start": 0,
            "count": 4
           },
           {
            "bin_end": 0.2,
            "bin_start": 0.1,
            "count": 0
           },
           {
            "bin_end": 0.30000000000000004,
            "bin_start": 0.2,
            "count": 0
           },
           {
            "bin_end": 0.4,
            "bin_start": 0.30000000000000004,
            "count": 0
           },
           {
            "bin_end": 0.5,
            "bin_start": 0.4,
            "count": 0
           },
           {
            "bin_end": 0.6000000000000001,
            "bin_start": 0.5,
            "count": 0
           },
           {
            "bin_end": 0.7000000000000001,
            "bin_start": 0.6000000000000001,
            "count": 0
           },
           {
            "bin_end": 0.8,
            "bin_start": 0.7000000000000001,
            "count": 0
           },
           {
            "bin_end": 0.9,
            "bin_start": 0.8,
            "count": 0
           },
           {
            "bin_end": 1,
            "bin_start": 0.9,
            "count": 1
           }
          ],
          "max": "1",
          "min": "0",
          "nan_count": 0,
          "unique_count": 2
         }
        },
        {
         "dtype": "uint8",
         "name": "Dept_Management",
         "stats": {
          "histogram": [
           {
            "bin_end": 0.1,
            "bin_start": 0,
            "count": 4
           },
           {
            "bin_end": 0.2,
            "bin_start": 0.1,
            "count": 0
           },
           {
            "bin_end": 0.30000000000000004,
            "bin_start": 0.2,
            "count": 0
           },
           {
            "bin_end": 0.4,
            "bin_start": 0.30000000000000004,
            "count": 0
           },
           {
            "bin_end": 0.5,
            "bin_start": 0.4,
            "count": 0
           },
           {
            "bin_end": 0.6000000000000001,
            "bin_start": 0.5,
            "count": 0
           },
           {
            "bin_end": 0.7000000000000001,
            "bin_start": 0.6000000000000001,
            "count": 0
           },
           {
            "bin_end": 0.8,
            "bin_start": 0.7000000000000001,
            "count": 0
           },
           {
            "bin_end": 0.9,
            "bin_start": 0.8,
            "count": 0
           },
           {
            "bin_end": 1,
            "bin_start": 0.9,
            "count": 1
           }
          ],
          "max": "1",
          "min": "0",
          "nan_count": 0,
          "unique_count": 2
         }
        },
        {
         "dtype": "uint8",
         "name": "Dept_Operations",
         "stats": {
          "histogram": [
           {
            "bin_end": 0.1,
            "bin_start": 0,
            "count": 4
           },
           {
            "bin_end": 0.2,
            "bin_start": 0.1,
            "count": 0
           },
           {
            "bin_end": 0.30000000000000004,
            "bin_start": 0.2,
            "count": 0
           },
           {
            "bin_end": 0.4,
            "bin_start": 0.30000000000000004,
            "count": 0
           },
           {
            "bin_end": 0.5,
            "bin_start": 0.4,
            "count": 0
           },
           {
            "bin_end": 0.6000000000000001,
            "bin_start": 0.5,
            "count": 0
           },
           {
            "bin_end": 0.7000000000000001,
            "bin_start": 0.6000000000000001,
            "count": 0
           },
           {
            "bin_end": 0.8,
            "bin_start": 0.7000000000000001,
            "count": 0
           },
           {
            "bin_end": 0.9,
            "bin_start": 0.8,
            "count": 0
           },
           {
            "bin_end": 1,
            "bin_start": 0.9,
            "count": 1
           }
          ],
          "max": "1",
          "min": "0",
          "nan_count": 0,
          "unique_count": 2
         }
        },
        {
         "dtype": "uint8",
         "name": "Dept_Sales",
         "stats": {
          "histogram": [
           {
            "bin_end": 0.1,
            "bin_start": 0,
            "count": 4
           },
           {
            "bin_end": 0.2,
            "bin_start": 0.1,
            "count": 0
           },
           {
            "bin_end": 0.30000000000000004,
            "bin_start": 0.2,
            "count": 0
           },
           {
            "bin_end": 0.4,
            "bin_start": 0.30000000000000004,
            "count": 0
           },
           {
            "bin_end": 0.5,
            "bin_start": 0.4,
            "count": 0
           },
           {
            "bin_end": 0.6000000000000001,
            "bin_start": 0.5,
            "count": 0
           },
           {
            "bin_end": 0.7000000000000001,
            "bin_start": 0.6000000000000001,
            "count": 0
           },
           {
            "bin_end": 0.8,
            "bin_start": 0.7000000000000001,
            "count": 0
           },
           {
            "bin_end": 0.9,
            "bin_start": 0.8,
            "count": 0
           },
           {
            "bin_end": 1,
            "bin_start": 0.9,
            "count": 1
           }
          ],
          "max": "1",
          "min": "0",
          "nan_count": 0,
          "unique_count": 2
         }
        },
        {
         "dtype": "int64",
         "name": "income",
         "stats": {
          "histogram": [
           {
            "bin_end": 0.1,
            "bin_start": 0,
            "count": 3
           },
           {
            "bin_end": 0.2,
            "bin_start": 0.1,
            "count": 0
           },
           {
            "bin_end": 0.30000000000000004,
            "bin_start": 0.2,
            "count": 0
           },
           {
            "bin_end": 0.4,
            "bin_start": 0.30000000000000004,
            "count": 0
           },
           {
            "bin_end": 0.5,
            "bin_start": 0.4,
            "count": 0
           },
           {
            "bin_end": 0.6000000000000001,
            "bin_start": 0.5,
            "count": 0
           },
           {
            "bin_end": 0.7000000000000001,
            "bin_start": 0.6000000000000001,
            "count": 0
           },
           {
            "bin_end": 0.8,
            "bin_start": 0.7000000000000001,
            "count": 0
           },
           {
            "bin_end": 0.9,
            "bin_start": 0.8,
            "count": 0
           },
           {
            "bin_end": 1,
            "bin_start": 0.9,
            "count": 2
           }
          ],
          "max": "1",
          "min": "0",
          "nan_count": 0,
          "unique_count": 2
         }
        },
        {
         "dtype": "int64",
         "name": "_deepnote_index_column"
        }
       ],
       "row_count": 5,
       "rows": [
        {
         "Age": 18,
         "Dept_Administration": 0,
         "Dept_Engineering": 0,
         "Dept_Management": 0,
         "Dept_Operations": 1,
         "Dept_Sales": 0,
         "Education_College": 1,
         "Education_High School": 0,
         "Education_Masters": 0,
         "Education_PhD": 0,
         "Gender_Female": 1,
         "Gender_Male": 0,
         "JobTitle_Data Scientist": 0,
         "JobTitle_Driver": 0,
         "JobTitle_Financial Analyst": 0,
         "JobTitle_Graphic Designer": 1,
         "JobTitle_IT": 0,
         "JobTitle_Manager": 0,
         "JobTitle_Marketing Associate": 0,
         "JobTitle_Sales Associate": 0,
         "JobTitle_Software Engineer": 0,
         "JobTitle_Warehouse Associate": 0,
         "PerfEval": 5,
         "Seniority": 2,
         "_deepnote_index_column": 0,
         "income": 0
        },
        {
         "Age": 21,
         "Dept_Administration": 0,
         "Dept_Engineering": 0,
         "Dept_Management": 1,
         "Dept_Operations": 0,
         "Dept_Sales": 0,
         "Education_College": 1,
         "Education_High School": 0,
         "Education_Masters": 0,
         "Education_PhD": 0,
         "Gender_Female": 0,
         "Gender_Male": 1,
         "JobTitle_Data Scientist": 0,
         "JobTitle_Driver": 0,
         "JobTitle_Financial Analyst": 0,
         "JobTitle_Graphic Designer": 0,
         "JobTitle_IT": 0,
         "JobTitle_Manager": 0,
         "JobTitle_Marketing Associate": 0,
         "JobTitle_Sales Associate": 0,
         "JobTitle_Software Engineer": 1,
         "JobTitle_Warehouse Associate": 0,
         "PerfEval": 5,
         "Seniority": 5,
         "_deepnote_index_column": 1,
         "income": 1
        },
        {
         "Age": 19,
         "Dept_Administration": 1,
         "Dept_Engineering": 0,
         "Dept_Management": 0,
         "Dept_Operations": 0,
         "Dept_Sales": 0,
         "Education_College": 0,
         "Education_High School": 0,
         "Education_Masters": 0,
         "Education_PhD": 1,
         "Gender_Female": 1,
         "Gender_Male": 0,
         "JobTitle_Data Scientist": 0,
         "JobTitle_Driver": 0,
         "JobTitle_Financial Analyst": 0,
         "JobTitle_Graphic Designer": 0,
         "JobTitle_IT": 0,
         "JobTitle_Manager": 0,
         "JobTitle_Marketing Associate": 0,
         "JobTitle_Sales Associate": 0,
         "JobTitle_Software Engineer": 0,
         "JobTitle_Warehouse Associate": 1,
         "PerfEval": 4,
         "Seniority": 5,
         "_deepnote_index_column": 2,
         "income": 0
        },
        {
         "Age": 20,
         "Dept_Administration": 0,
         "Dept_Engineering": 0,
         "Dept_Management": 0,
         "Dept_Operations": 0,
         "Dept_Sales": 1,
         "Education_College": 0,
         "Education_High School": 0,
         "Education_Masters": 1,
         "Education_PhD": 0,
         "Gender_Female": 0,
         "Gender_Male": 1,
         "JobTitle_Data Scientist": 0,
         "JobTitle_Driver": 0,
         "JobTitle_Financial Analyst": 0,
         "JobTitle_Graphic Designer": 0,
         "JobTitle_IT": 0,
         "JobTitle_Manager": 0,
         "JobTitle_Marketing Associate": 0,
         "JobTitle_Sales Associate": 0,
         "JobTitle_Software Engineer": 1,
         "JobTitle_Warehouse Associate": 0,
         "PerfEval": 5,
         "Seniority": 4,
         "_deepnote_index_column": 3,
         "income": 1
        },
        {
         "Age": 26,
         "Dept_Administration": 0,
         "Dept_Engineering": 1,
         "Dept_Management": 0,
         "Dept_Operations": 0,
         "Dept_Sales": 0,
         "Education_College": 0,
         "Education_High School": 0,
         "Education_Masters": 1,
         "Education_PhD": 0,
         "Gender_Female": 0,
         "Gender_Male": 1,
         "JobTitle_Data Scientist": 0,
         "JobTitle_Driver": 0,
         "JobTitle_Financial Analyst": 0,
         "JobTitle_Graphic Designer": 1,
         "JobTitle_IT": 0,
         "JobTitle_Manager": 0,
         "JobTitle_Marketing Associate": 0,
         "JobTitle_Sales Associate": 0,
         "JobTitle_Software Engineer": 0,
         "JobTitle_Warehouse Associate": 0,
         "PerfEval": 5,
         "Seniority": 5,
         "_deepnote_index_column": 4,
         "income": 0
        }
       ]
      },
      "text/html": "<div>\n<style scoped>\n    .dataframe tbody tr th:only-of-type {\n        vertical-align: middle;\n    }\n\n    .dataframe tbody tr th {\n        vertical-align: top;\n    }\n\n    .dataframe thead th {\n        text-align: right;\n    }\n</style>\n<table border=\"1\" class=\"dataframe\">\n  <thead>\n    <tr style=\"text-align: right;\">\n      <th></th>\n      <th>PerfEval</th>\n      <th>Seniority</th>\n      <th>Age</th>\n      <th>Education_College</th>\n      <th>Education_High School</th>\n      <th>Education_Masters</th>\n      <th>Education_PhD</th>\n      <th>JobTitle_Data Scientist</th>\n      <th>JobTitle_Driver</th>\n      <th>JobTitle_Financial Analyst</th>\n      <th>...</th>\n      <th>JobTitle_Software Engineer</th>\n      <th>JobTitle_Warehouse Associate</th>\n      <th>Gender_Female</th>\n      <th>Gender_Male</th>\n      <th>Dept_Administration</th>\n      <th>Dept_Engineering</th>\n      <th>Dept_Management</th>\n      <th>Dept_Operations</th>\n      <th>Dept_Sales</th>\n      <th>income</th>\n    </tr>\n  </thead>\n  <tbody>\n    <tr>\n      <th>0</th>\n      <td>5</td>\n      <td>2</td>\n      <td>18</td>\n      <td>1</td>\n      <td>0</td>\n      <td>0</td>\n      <td>0</td>\n      <td>0</td>\n      <td>0</td>\n      <td>0</td>\n      <td>...</td>\n      <td>0</td>\n      <td>0</td>\n      <td>1</td>\n      <td>0</td>\n      <td>0</td>\n      <td>0</td>\n      <td>0</td>\n      <td>1</td>\n      <td>0</td>\n      <td>0</td>\n    </tr>\n    <tr>\n      <th>1</th>\n      <td>5</td>\n      <td>5</td>\n      <td>21</td>\n      <td>1</td>\n      <td>0</td>\n      <td>0</td>\n      <td>0</td>\n      <td>0</td>\n      <td>0</td>\n      <td>0</td>\n      <td>...</td>\n      <td>1</td>\n      <td>0</td>\n      <td>0</td>\n      <td>1</td>\n      <td>0</td>\n      <td>0</td>\n      <td>1</td>\n      <td>0</td>\n      <td>0</td>\n      <td>1</td>\n    </tr>\n    <tr>\n      <th>2</th>\n      <td>4</td>\n      <td>5</td>\n      <td>19</td>\n      <td>0</td>\n      <td>0</td>\n      <td>0</td>\n      <td>1</td>\n      <td>0</td>\n      <td>0</td>\n      <td>0</td>\n      <td>...</td>\n      <td>0</td>\n      <td>1</td>\n      <td>1</td>\n      <td>0</td>\n      <td>1</td>\n      <td>0</td>\n      <td>0</td>\n      <td>0</td>\n      <td>0</td>\n      <td>0</td>\n    </tr>\n    <tr>\n      <th>3</th>\n      <td>5</td>\n      <td>4</td>\n      <td>20</td>\n      <td>0</td>\n      <td>0</td>\n      <td>1</td>\n      <td>0</td>\n      <td>0</td>\n      <td>0</td>\n      <td>0</td>\n      <td>...</td>\n      <td>1</td>\n      <td>0</td>\n      <td>0</td>\n      <td>1</td>\n      <td>0</td>\n      <td>0</td>\n      <td>0</td>\n      <td>0</td>\n      <td>1</td>\n      <td>1</td>\n    </tr>\n    <tr>\n      <th>4</th>\n      <td>5</td>\n      <td>5</td>\n      <td>26</td>\n      <td>0</td>\n      <td>0</td>\n      <td>1</td>\n      <td>0</td>\n      <td>0</td>\n      <td>0</td>\n      <td>0</td>\n      <td>...</td>\n      <td>0</td>\n      <td>0</td>\n      <td>0</td>\n      <td>1</td>\n      <td>0</td>\n      <td>1</td>\n      <td>0</td>\n      <td>0</td>\n      <td>0</td>\n      <td>0</td>\n    </tr>\n  </tbody>\n</table>\n<p>5 rows × 25 columns</p>\n</div>",
      "text/plain": "   PerfEval  Seniority  Age  Education_College  Education_High School  \\\n0         5          2   18                  1                      0   \n1         5          5   21                  1                      0   \n2         4          5   19                  0                      0   \n3         5          4   20                  0                      0   \n4         5          5   26                  0                      0   \n\n   Education_Masters  Education_PhD  JobTitle_Data Scientist  JobTitle_Driver  \\\n0                  0              0                        0                0   \n1                  0              0                        0                0   \n2                  0              1                        0                0   \n3                  1              0                        0                0   \n4                  1              0                        0                0   \n\n   JobTitle_Financial Analyst  ...  JobTitle_Software Engineer  \\\n0                           0  ...                           0   \n1                           0  ...                           1   \n2                           0  ...                           0   \n3                           0  ...                           1   \n4                           0  ...                           0   \n\n   JobTitle_Warehouse Associate  Gender_Female  Gender_Male  \\\n0                             0              1            0   \n1                             0              0            1   \n2                             1              1            0   \n3                             0              0            1   \n4                             0              0            1   \n\n   Dept_Administration  Dept_Engineering  Dept_Management  Dept_Operations  \\\n0                    0                 0                0                1   \n1                    0                 0                1                0   \n2                    1                 0                0                0   \n3                    0                 0                0                0   \n4                    0                 1                0                0   \n\n   Dept_Sales  income  \n0           0       0  \n1           0       1  \n2           0       0  \n3           1       1  \n4           0       0  \n\n[5 rows x 25 columns]"
     },
     "execution_count": 17,
     "metadata": {},
     "output_type": "execute_result"
    }
   ]
  },
  {
   "cell_type": "code",
   "metadata": {
    "deepnote_to_be_reexecuted": false,
    "execution_millis": 2,
    "execution_start": 1650604507661,
    "source_hash": "fdec42e5",
    "tags": [],
    "cell_id": "00008-33e822c4-11c5-40a6-8673-e4b9901e3917",
    "deepnote_cell_type": "code",
    "deepnote_cell_height": 989
   },
   "source": "# Upsample Bad to match Good\nfrom sklearn.utils import resample\n\nxData_oheBad = xData_ohe[xData_ohe.income == 0]\nxData_oheGood = xData_ohe[xData_ohe.income == 1]\n \n# Upsample the Bad samples\nxData_ohe_up = resample(xData_oheGood, \n                        replace=True,                     # sample with replacement\n                        n_samples=xData_oheBad.shape[0])    # to match number of Good\n \n# Combine the two classes back after upsampling\nxData_ohe_up = pd.concat([xData_oheBad, xData_ohe_up])\n \n# Check the ratio of the classes\nxData_ohe_up['income'].value_counts()\nxData_ohe_up.info()",
   "execution_count": 20,
   "outputs": [
    {
     "name": "stdout",
     "output_type": "stream",
     "text": "<class 'pandas.core.frame.DataFrame'>\nInt64Index: 1498 entries, 0 to 87\nData columns (total 25 columns):\n #   Column                        Non-Null Count  Dtype\n---  ------                        --------------  -----\n 0   PerfEval                      1498 non-null   int64\n 1   Seniority                     1498 non-null   int64\n 2   Age                           1498 non-null   int64\n 3   Education_College             1498 non-null   uint8\n 4   Education_High School         1498 non-null   uint8\n 5   Education_Masters             1498 non-null   uint8\n 6   Education_PhD                 1498 non-null   uint8\n 7   JobTitle_Data Scientist       1498 non-null   uint8\n 8   JobTitle_Driver               1498 non-null   uint8\n 9   JobTitle_Financial Analyst    1498 non-null   uint8\n 10  JobTitle_Graphic Designer     1498 non-null   uint8\n 11  JobTitle_IT                   1498 non-null   uint8\n 12  JobTitle_Manager              1498 non-null   uint8\n 13  JobTitle_Marketing Associate  1498 non-null   uint8\n 14  JobTitle_Sales Associate      1498 non-null   uint8\n 15  JobTitle_Software Engineer    1498 non-null   uint8\n 16  JobTitle_Warehouse Associate  1498 non-null   uint8\n 17  Gender_Female                 1498 non-null   uint8\n 18  Gender_Male                   1498 non-null   uint8\n 19  Dept_Administration           1498 non-null   uint8\n 20  Dept_Engineering              1498 non-null   uint8\n 21  Dept_Management               1498 non-null   uint8\n 22  Dept_Operations               1498 non-null   uint8\n 23  Dept_Sales                    1498 non-null   uint8\n 24  income                        1498 non-null   int64\ndtypes: int64(4), uint8(21)\nmemory usage: 89.2 KB\n"
    }
   ]
  },
  {
   "cell_type": "code",
   "metadata": {
    "deepnote_to_be_reexecuted": false,
    "execution_millis": 125,
    "execution_start": 1650539191090,
    "source_hash": "9c535873",
    "tags": [],
    "cell_id": "00009-f9d449d7-fdb3-455f-a839-48362b30e096",
    "deepnote_cell_type": "code",
    "deepnote_cell_height": 279
   },
   "source": "# Import essential models and functions from sklearn\nfrom sklearn.tree import DecisionTreeClassifier\nfrom sklearn.model_selection import train_test_split\nfrom sklearn.metrics import confusion_matrix\nfrom sklearn.tree import plot_tree\n\n# Extract Response and Predictors\ny = pd.DataFrame(xData_ohe_up['income'])\nx = pd.DataFrame(xData_ohe_up.drop('income', axis = 1))\n\n# Split the Dataset into Train and Test\nx_train, x_test, y_train, y_test = train_test_split(x, y, test_size = 0.2)",
   "execution_count": null,
   "outputs": []
  },
  {
   "cell_type": "code",
   "metadata": {
    "deepnote_to_be_reexecuted": false,
    "execution_millis": 1087,
    "execution_start": 1650539197465,
    "source_hash": "cef8d861",
    "tags": [],
    "cell_id": "00010-93412c02-6a1c-41c8-80ef-f11d15113d13",
    "deepnote_cell_type": "code",
    "deepnote_cell_height": 99
   },
   "source": "# Import RandomForestClassifier model from Scikit-Learn\nfrom sklearn.ensemble import RandomForestClassifier",
   "execution_count": 1,
   "outputs": []
  },
  {
   "cell_type": "code",
   "metadata": {
    "deepnote_to_be_reexecuted": false,
    "execution_millis": 4881,
    "execution_start": 1650539199593,
    "source_hash": "3a215146",
    "tags": [],
    "cell_id": "00011-59859c71-ea0b-4881-92f5-4875beb0e6e5",
    "deepnote_cell_type": "code",
    "deepnote_cell_height": 237
   },
   "source": "!pip install xgboost==1.6.0",
   "execution_count": null,
   "outputs": [
    {
     "name": "stdout",
     "output_type": "stream",
     "text": "Requirement already satisfied: xgboost==1.6.0 in /root/venv/lib/python3.7/site-packages (1.6.0)\nRequirement already satisfied: numpy in /shared-libs/python3.7/py/lib/python3.7/site-packages (from xgboost==1.6.0) (1.21.6)\nRequirement already satisfied: scipy in /shared-libs/python3.7/py/lib/python3.7/site-packages (from xgboost==1.6.0) (1.7.3)\n\u001b[33mWARNING: You are using pip version 20.1.1; however, version 22.0.4 is available.\nYou should consider upgrading via the '/root/venv/bin/python -m pip install --upgrade pip' command.\u001b[0m\n"
    }
   ]
  },
  {
   "cell_type": "code",
   "metadata": {
    "deepnote_to_be_reexecuted": false,
    "execution_millis": 753,
    "execution_start": 1650539204490,
    "source_hash": "15596e2a",
    "tags": [],
    "cell_id": "00012-6e8b20a7-7b40-431c-8f2e-5ac2852e4200",
    "deepnote_cell_type": "code",
    "deepnote_cell_height": 153
   },
   "source": "from xgboost import XGBClassifier\nfrom sklearn.metrics import accuracy_score\n\nmodel = XGBClassifier(use_label_encoder=False, eval_metric='mlogloss')\n",
   "execution_count": null,
   "outputs": []
  },
  {
   "cell_type": "markdown",
   "source": "## Cross validation with gridsearchCV",
   "metadata": {
    "cell_id": "00013-45d4e6e9-7068-4471-a034-415f2ff683d0",
    "deepnote_cell_type": "markdown",
    "deepnote_cell_height": 70
   }
  },
  {
   "cell_type": "code",
   "metadata": {
    "deepnote_to_be_reexecuted": false,
    "execution_millis": 4,
    "execution_start": 1650539206446,
    "source_hash": "b2fcdda3",
    "tags": [],
    "cell_id": "00014-e12bb50e-d54c-4912-a1de-cd1563fe1c68",
    "deepnote_cell_type": "code",
    "deepnote_cell_height": 388.1875,
    "deepnote_output_heights": [
     21.1875
    ]
   },
   "source": "# Import GridSearch for hyperparameter tuning using Cross-Validation (CV)\nfrom sklearn.model_selection import GridSearchCV\n\n# Define the Hyper-parameter Grid to search on, in case of Random Forest\nparam_grid = {'n_estimators': np.arange(100,1001,100),   # number of trees 100, 200, ..., 1000\n              'max_depth': np.arange(2, 11)}             # depth of trees 2, 3, 4, 5, ..., 10\n\n# Create the Hyper-parameter Grid\nhpGrid = GridSearchCV(DecisionTreeClassifier(max_depth =5),   # the model family\n                      param_grid,                 # the search grid\n                      cv = 5,                     # 5-fold cross-validation\n                      scoring = 'accuracy')       # score to evaluate\n\n# Train the models using Cross-Validation\nhpGrid.get_params().keys()\n#hpGrid.fit(x_train, y_train.income.ravel())",
   "execution_count": null,
   "outputs": [
    {
     "data": {
      "text/plain": "dict_keys(['cv', 'error_score', 'estimator__ccp_alpha', 'estimator__class_weight', 'estimator__criterion', 'estimator__max_depth', 'estimator__max_features', 'estimator__max_leaf_nodes', 'estimator__min_impurity_decrease', 'estimator__min_samples_leaf', 'estimator__min_samples_split', 'estimator__min_weight_fraction_leaf', 'estimator__random_state', 'estimator__splitter', 'estimator', 'n_jobs', 'param_grid', 'pre_dispatch', 'refit', 'return_train_score', 'scoring', 'verbose'])"
     },
     "execution_count": 39,
     "metadata": {},
     "output_type": "execute_result"
    }
   ]
  },
  {
   "cell_type": "markdown",
   "source": "## Random forest",
   "metadata": {
    "cell_id": "00015-4d1043ec-9fb3-4be4-a840-cd22d63b380b",
    "deepnote_cell_type": "markdown",
    "deepnote_cell_height": 70
   }
  },
  {
   "cell_type": "code",
   "metadata": {
    "deepnote_to_be_reexecuted": false,
    "execution_millis": 1195650,
    "execution_start": 1650539206461,
    "source_hash": "58a64d13",
    "tags": [],
    "cell_id": "00016-828d3aa1-f9e7-4825-834d-51f6a9f9b3d7",
    "deepnote_cell_type": "code",
    "deepnote_cell_height": 427.78125,
    "deepnote_output_heights": [
     78.796875
    ]
   },
   "source": "# Import GridSearch for hyperparameter tuning using Cross-Validation (CV)\nfrom sklearn.model_selection import GridSearchCV\n\n# Define the Hyper-parameter Grid to search on, in case of Random Forest\nparam_grid = {'n_estimators': np.arange(100,1001,100),   # number of trees 100, 200, ..., 1000\n              'max_depth': np.arange(2, 11)}             # depth of trees 2, 3, 4, 5, ..., 10\n\n# Create the Hyper-parameter Grid\nhpGrid = GridSearchCV(RandomForestClassifier(),   # the model family\n                      param_grid,                 # the search grid\n                      cv = 5,                     # 5-fold cross-validation\n                      scoring = 'accuracy')       # score to evaluate\n\n# Train the models using Cross-Validation\nhpGrid.fit(x_train, y_train.income.ravel())",
   "execution_count": null,
   "outputs": [
    {
     "data": {
      "text/plain": "GridSearchCV(cv=5, estimator=RandomForestClassifier(),\n             param_grid={'max_depth': array([ 2,  3,  4,  5,  6,  7,  8,  9, 10]),\n                         'n_estimators': array([ 100,  200,  300,  400,  500,  600,  700,  800,  900, 1000])},\n             scoring='accuracy')"
     },
     "execution_count": 40,
     "metadata": {},
     "output_type": "execute_result"
    }
   ]
  },
  {
   "cell_type": "code",
   "metadata": {
    "deepnote_to_be_reexecuted": false,
    "execution_millis": 10,
    "execution_start": 1650540402110,
    "source_hash": "66ae4ee0",
    "tags": [],
    "cell_id": "00017-d9ea1c2d-e8eb-4b8b-9d2a-0fdcc00b2ba8",
    "deepnote_cell_type": "code",
    "deepnote_cell_height": 204
   },
   "source": "# Fetch the best Model or the best set of Hyper-parameters\nprint(hpGrid.best_estimatore_)\n\n# Print the score (accuracy) of the best Model after CV\nprint(np.abs(hpGrid.best_score_))",
   "execution_count": null,
   "outputs": [
    {
     "name": "stdout",
     "output_type": "stream",
     "text": "RandomForestClassifier(max_depth=9, n_estimators=400)\n0.9365655509065551\n"
    }
   ]
  },
  {
   "cell_type": "markdown",
   "source": "## XGBoost",
   "metadata": {
    "cell_id": "00018-ae741740-f9e2-4114-8e89-215c457f9bd7",
    "deepnote_cell_type": "markdown",
    "deepnote_cell_height": 70
   }
  },
  {
   "cell_type": "code",
   "metadata": {
    "deepnote_to_be_reexecuted": false,
    "execution_millis": 2567921,
    "execution_start": 1650540402128,
    "source_hash": "9b513e6f",
    "tags": [],
    "cell_id": "00019-06d98b54-40f7-4dc2-85b0-02eda4bc407a",
    "deepnote_cell_type": "code",
    "deepnote_cell_height": 773.375,
    "deepnote_output_heights": [
     424.390625
    ]
   },
   "source": "# Import GridSearch for hyperparameter tuning using Cross-Validation (CV)\nfrom sklearn.model_selection import GridSearchCV\n\n# Define the Hyper-parameter Grid to search on, in case of XGBoost\nparam_grid = {'n_estimators': np.arange(100,1001,100),   # number of trees 100, 200, ..., 1000\n              'max_depth': np.arange(2, 11)}             # depth of trees 2, 3, 4, 5, ..., 10\n\n# Create the Hyper-parameter Grid\nhpGrid = GridSearchCV(XGBClassifier(),   # the model family\n                      param_grid,                 # the search grid\n                      cv = 5,                     # 5-fold cross-validation\n                      scoring = 'accuracy')       # score to evaluate\n\n# Train the models using Cross-Validation\nhpGrid.fit(x_train, y_train.income.ravel())",
   "execution_count": null,
   "outputs": [
    {
     "data": {
      "text/plain": "GridSearchCV(cv=5,\n             estimator=XGBClassifier(base_score=None, booster=None,\n                                     callbacks=None, colsample_bylevel=None,\n                                     colsample_bynode=None,\n                                     colsample_bytree=None,\n                                     early_stopping_rounds=None,\n                                     enable_categorical=False, eval_metric=None,\n                                     gamma=None, gpu_id=None, grow_policy=None,\n                                     importance_type=None,\n                                     interaction_constraints=None,\n                                     learning_rate=None, max_bin=None,\n                                     max_ca...\n                                     max_delta_step=None, max_depth=None,\n                                     max_leaves=None, min_child_weight=None,\n                                     missing=nan, monotone_constraints=None,\n                                     n_estimators=100, n_jobs=None,\n                                     num_parallel_tree=None, predictor=None,\n                                     random_state=None, reg_alpha=None,\n                                     reg_lambda=None, ...),\n             param_grid={'max_depth': array([ 2,  3,  4,  5,  6,  7,  8,  9, 10]),\n                         'n_estimators': array([ 100,  200,  300,  400,  500,  600,  700,  800,  900, 1000])},\n             scoring='accuracy')"
     },
     "execution_count": 42,
     "metadata": {},
     "output_type": "execute_result"
    }
   ]
  },
  {
   "cell_type": "code",
   "metadata": {
    "deepnote_to_be_reexecuted": false,
    "execution_millis": 141,
    "execution_start": 1650542969910,
    "source_hash": "a5337500",
    "tags": [],
    "cell_id": "00020-a020263b-76b7-4f79-93c1-f49d08cf5d22",
    "deepnote_cell_type": "code",
    "deepnote_cell_height": 384
   },
   "source": "# Fetch the best Model or the best set of Hyper-parameters\nprint(hpGrid.best_estimator_)\n\n# Print the score (accuracy) of the best Model after CV\nprint(np.abs(hpGrid.best_score_)) ",
   "execution_count": null,
   "outputs": [
    {
     "name": "stdout",
     "output_type": "stream",
     "text": "XGBClassifier(base_score=0.5, booster='gbtree', callbacks=None,\n              colsample_bylevel=1, colsample_bynode=1, colsample_bytree=1,\n              early_stopping_rounds=None, enable_categorical=False,\n              eval_metric=None, gamma=0, gpu_id=-1, grow_policy='depthwise',\n              importance_type=None, interaction_constraints='',\n              learning_rate=0.300000012, max_bin=256, max_cat_to_onehot=4,\n              max_delta_step=0, max_depth=9, max_leaves=0, min_child_weight=1,\n              missing=nan, monotone_constraints='()', n_estimators=200,\n              n_jobs=0, num_parallel_tree=1, predictor='auto', random_state=0,\n              reg_alpha=0, reg_lambda=1, ...)\n0.9415794979079497\n"
    }
   ]
  },
  {
   "cell_type": "markdown",
   "source": "#### Cross validate to find the best estimators where there is no overfitting or underfitting of data which will lead to higher levels of errors. The accuracy for XGBoost and Random Forest Clasification is relatively close thus there are times with different train and test datasets the accuracy of random forest will be higher due to variance.",
   "metadata": {
    "cell_id": "0b9ed6476b7c4b439f5a7c83a7874533",
    "tags": [],
    "deepnote_cell_type": "markdown",
    "deepnote_cell_height": 126
   }
  },
  {
   "cell_type": "markdown",
   "source": "",
   "metadata": {
    "cell_id": "1d0254a335da4ef5a9866b1446b0905a",
    "tags": [],
    "owner_user_id": "a28247c7-d0fc-474c-94aa-fe8ce493e4e6",
    "deepnote_cell_type": "markdown",
    "deepnote_cell_height": 46
   }
  },
  {
   "cell_type": "markdown",
   "source": "<a style='text-decoration:none;line-height:16px;display:flex;color:#5B5B62;padding:10px;justify-content:end;' href='https://deepnote.com?utm_source=created-in-deepnote-cell&projectId=58b1880a-8741-46da-8f14-077fd1d2b5b3' target=\"_blank\">\n<img alt='Created in deepnote.com' style='display:inline;max-height:16px;margin:0px;margin-right:7.5px;' src='data:image/svg+xml;base64,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' > </img>\nCreated in <span style='font-weight:600;margin-left:4px;'>Deepnote</span></a>",
   "metadata": {
    "tags": [],
    "created_in_deepnote_cell": true,
    "deepnote_cell_type": "markdown"
   }
  }
 ],
 "nbformat": 4,
 "nbformat_minor": 2,
 "metadata": {
  "deepnote": {},
  "deepnote_execution_queue": [],
  "deepnote_notebook_id": "a3c60c79-3df7-44ec-a9f1-906a84f95673",
  "kernelspec": {
   "display_name": "Python 3 (ipykernel)",
   "language": "python",
   "name": "python3"
  },
  "language_info": {
   "codemirror_mode": {
    "name": "ipython",
    "version": 3
   },
   "file_extension": ".py",
   "mimetype": "text/x-python",
   "name": "python",
   "nbconvert_exporter": "python",
   "pygments_lexer": "ipython3",
   "version": "3.9.7"
  }
 }
}